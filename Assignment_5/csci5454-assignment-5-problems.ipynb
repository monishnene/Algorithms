{
 "cells": [
  {
   "cell_type": "markdown",
   "metadata": {},
   "source": [
    "# Assignment 5\n",
    "\n",
    "Your Name: \n",
    "\n",
    "Collaborated With:\n",
    "\n",
    "\n",
    "> This assignment is to be completed and uploaded to \n",
    "moodle as a python3 notebook. \n",
    "\n",
    "> Submission deadlines are posted on moodle. \n",
    "\n",
    "> The questions  provided  below will ask you to either write code or \n",
    "write answers in the form of markdown.\n",
    "\n",
    "> Markdown syntax guide is here: [click here](https://github.com/adam-p/markdown-here/wiki/Markdown-Cheatsheet)\n",
    "\n",
    "> Using markdown you can typeset formulae using latex.\n",
    "\n",
    "> This way you can write nice readable answers with formulae like thus:\n",
    "\n",
    ">> The algorithm runs in time $\\Theta\\left(n^{2.1\\log_2(\\log_2( n \\log^*(n)))}\\right)$, \n",
    "wherein $\\log^*(n)$ is the inverse _Ackerman_ function.\n",
    "\n",
    "__Double click anywhere on this box to find out how your instructor typeset it. Press Shift+Enter to go back. __\n"
   ]
  },
  {
   "cell_type": "markdown",
   "metadata": {},
   "source": [
    "## Q1: Bloom Filters (10 points)\n",
    "\n",
    "> A bloom filter is a fast set data structure that maintains a set $S$ of keys. One can insert keys into the set and test whether a given key $k$ belongs to the set. It may used in applications where the keys are ``complicated'' objects such as TCP packets or images that are expensive to compare with each other.\n",
    "\n",
    "> The data structure is an array $T$ of Booleans size $m$ with $l$ different hash functions $h_1, \\ldots, h_l$.\n",
    ">> Initially, `T[i] = FALSE` for all `i`.\n",
    "\n",
    "> If a key $k$ is to be inserted\n",
    ">> We compute $i_1 = h_1(k), \\ldots, i_l = h_l(k)$.\n",
    ">> We set $T[i_1] = \\cdots T[i_l] = \\text{TRUE}$.\n",
    "\n",
    "> __(A)__ Suppose we wish to find out if an element $k$ is a member of the set by checking if\n",
    "$T[h_1(k)], \\ldots, T[h_l(k)]$ are all true. Explain whether this can lead to a *false positive* i.e,\n",
    "the approach wrongly concludes that $k$ belongs to the set when it was never inserted; or *false negative*\n",
    "i.e, the approach wrongly concludes that $k$ does not belong to the set when it does.\n",
    "\n",
    "> __(B)__ Suppose our hash functions are guaranteed to be uniform. I.e, for any randomly chosen\n",
    "key $k$, for any hash function $h_i$ and cell $j$, \n",
    ">  $$ \\mathbb{P}( h_i(k) = j)  = \\frac{1}{m} $$\n",
    "> If $n$ keys are chosen at random and inserted into the filter, compute that probability that any given cell $T[j]$ is set to FALSE after this.\n",
    "\n",
    "> __(C)__ Use the results from previous set to estimate the probabilisty of a false positive. I.e, some $l$ cells\n",
    "$i_1, i_2, \\ldots, i_l$ are simultaneously set to TRUE.\n"
   ]
  },
  {
   "cell_type": "markdown",
   "metadata": {},
   "source": [
    "### Answer 1 { Expected Size: 15 lines}\n",
    ".\n",
    ".\n",
    "\n",
    ".\n",
    "\n",
    ".\n",
    "\n",
    ".\n",
    "\n",
    ".\n",
    "\n",
    ".\n",
    "\n",
    ".\n",
    "\n",
    "\n",
    ".\n"
   ]
  },
  {
   "cell_type": "markdown",
   "metadata": {},
   "source": [
    "## Q2: Function Collision Problem (10 points)\n",
    "\n",
    "Suppose we are given a black box function $f(x,y)$ that takes in two integers and returns an integer.\n",
    "eg., $f(x,y) = (x + y^2) + (x^2 - y)$.\n",
    "\n",
    "Write an algorithm to _count_ the number of possible quadruples: $(x, y, w, z)$ such that\n",
    "$1 \\leq x,y,w,z \\leq n$, $x \\not= w$ or $y \\not= z$, and $f(x,y) = f(w,z)$.\n",
    "\n",
    "(A) Provide a deterministic algorithm without any randomization. Calculate its worst case running time and how much extra space you will need. Your algorithm must be made as efficient as possible.\n",
    "\n",
    "(B) Provide a randomized algorithm that must run in $O(n^2)$ time on the average. Calculate how much extra space will be needed for your algorithm.\n",
    "\n",
    "Clarity of your answer is very important. An answer that is hard to read/understand will not be given credit."
   ]
  },
  {
   "cell_type": "markdown",
   "metadata": {},
   "source": [
    "## Answer 2 { Expected Size: 20 lines}\n",
    "\n",
    "\n",
    "...\n",
    "\n",
    "...\n",
    "...\n",
    "\n",
    "...\n",
    "...\n",
    "\n",
    "...\n"
   ]
  },
  {
   "cell_type": "markdown",
   "metadata": {},
   "source": [
    "## Q3: Prove Universal Hash Function (15 points)\n",
    "\n",
    "Suppose we are interested in hashing $n$ bit keys into $m$ bit hash values to hash into a table of size\n",
    "$2^m$. We view our key  as a bit vector of $n$ bits in binary. Eg., for $n = 4$, the key $14 = \\left(\\begin{array}{c} 1\\\\ 1\\\\ 1\\\\ 0 \\end{array} \\right)$.\n",
    "\n",
    "The hash family is defined by random boolean matrices $H$ with $m$ rows and $n$ columns. To compute the hash function, we perform a matrix multiplication. Eg., with $m = 3$ and $n= 4$, we can have a matrix $H$ such as\n",
    "\n",
    "$$ H = \\left[ \\begin{array}{cccc} 0 & 1 & 0 & 1 \\\\\n",
    "1 & 0 & 0 & 0 \\\\\n",
    "1 & 0 & 1 & 1 \\\\\n",
    "\\end{array} \\right]$$.\n",
    "\n",
    "\n",
    "The value of the hash function $H(14)$ is now obtained by multiplying\n",
    "\n",
    "$$ \\left[ \\begin{array}{cccc} 0 & 1 & 0 & 1 \\\\\n",
    "1 & 0 & 0 & 0 \\\\\n",
    "1 & 0 & 1 & 1 \\\\\n",
    "\\end{array} \\right] \\times \\left( \\begin{array}{c} \n",
    "1\\\\\n",
    "1\\\\\n",
    "1\\\\\n",
    "0\\\\\n",
    "\\end{array} \\right) $$\n",
    "\n",
    "The matrix multiplication is carried out using AND for multiplication and XOR instead of addition.\n",
    "\n",
    "(A) For a given matrix $H$ and two  keys $x, y$ that differ only in their $i^{th}$ bits, provide a condition for\n",
    "$Hx = Hy$ holding. (**Hint** It may help to play with examples where you have two numbers $x, y$ that just differ at a particular bit position. Figure out which entries in the matrix are multiplied with these bits that differ).\n",
    "\n",
    "(B) Prove that the probability that two keys $x, y$ such that $x \\not= y$ collide under the random choice of a matrix $x, y$ is at most $\\frac{1}{2^m}$.\n"
   ]
  },
  {
   "cell_type": "markdown",
   "metadata": {},
   "source": [
    "## Answer 3 (Expected Size: 15 lines)\n",
    "\n"
   ]
  },
  {
   "cell_type": "markdown",
   "metadata": {},
   "source": [
    "..\n",
    "\n",
    "\n",
    "..\n",
    "\n",
    "\n",
    "...\n",
    "\n",
    "\n",
    "\n",
    "..."
   ]
  },
  {
   "cell_type": "code",
   "execution_count": null,
   "metadata": {},
   "outputs": [],
   "source": []
  }
 ],
 "metadata": {
  "kernelspec": {
   "display_name": "Python 3",
   "language": "python",
   "name": "python3"
  },
  "language_info": {
   "codemirror_mode": {
    "name": "ipython",
    "version": 3
   },
   "file_extension": ".py",
   "mimetype": "text/x-python",
   "name": "python",
   "nbconvert_exporter": "python",
   "pygments_lexer": "ipython3",
   "version": "3.6.5"
  }
 },
 "nbformat": 4,
 "nbformat_minor": 2
}
