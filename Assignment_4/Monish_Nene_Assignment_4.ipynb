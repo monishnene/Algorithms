{
 "cells": [
  {
   "cell_type": "markdown",
   "metadata": {},
   "source": [
    "# CSCI 5454: Assignment 4\n",
    "\n",
    "Your Name: Monish Nene\n",
    "\n",
    "\n",
    "Collaborated With:\n"
   ]
  },
  {
   "cell_type": "markdown",
   "metadata": {},
   "source": [
    "## Problem 1 (10 points)\n",
    "\n",
    "Consider the program below:\n",
    "\n",
    "`def findMinimum(a):\n",
    "     n = len(a)\n",
    "     minSoFar =  math.inf\n",
    "     for i in range(n):\n",
    "         if (a[i] < minSoFar):\n",
    "            minSoFar = a[i] # <-- X\n",
    "     return minSoFar`\n",
    "     \n",
    " If $a$ is a random array of numbers $1, \\ldots, n$ such that any of the $n!$ permutations is equally probable. What is the expected number of times the variable `minSoFar` is updated in the for loop (i.e, the statement marked \"X\" is executed)? Your answer must be a function of $n$, asymptotic notation is fine and you must show the steps/justification that you used to arrive at your answer clearly and concisely."
   ]
  },
  {
   "cell_type": "markdown",
   "metadata": {},
   "source": [
    "### Solution (Expected length: 5 lines)\n",
    "\n",
    ">$$Probability\\space that\\space a[i]\\space is\\space lower\\space than\\space all\\space previous\\space terms\\space =\\space \\frac{(i-1)!}{i!}=\\frac{1}{i}$$\n",
    "\n",
    ">$$Number\\space of\\space times\\space \"X\"\\space is\\space executed\\space =\\space Sum\\space of\\space probabilities\\space that\\space  a[i]\\space is\\space lower\\space than\\space all\\space previous\\space terms\\space in\\space range(n)\\space$$\n",
    "\n",
    ">$$Therefore,\\space Number\\space of\\space times\\space \"X\"\\space is\\space executed\\space =\\space\\sum_{i=1}^{n}\\frac{1}{i}$$\n",
    "\n",
    ">$$=∫_1^n\\frac{1}{i}di$$\n",
    "\n",
    ">$$=ln(n)$$\n",
    "\n",
    ">$$Number\\space of\\space times\\space \"X\"\\space is\\space executed\\space =\\space \\Theta(ln(n)) = \\Theta(log_2(n))$$ "
   ]
  },
  {
   "cell_type": "markdown",
   "metadata": {},
   "source": [
    "## Problem 2A (10 points)\n",
    "\n",
    "We will now consider a scheme to randomly permute an array of size $n$. You are allowed to generate a single random bit at a time using the `random.getrandbits(1)` function. Write a function `shuffleArray` that will shuffle an input array of $n$ integers so that any permutation is equally probable.\n",
    "\n",
    "- __Input:__ original list.\n",
    "- __Return:__ shuffled list.\n",
    "\n",
    "You __should not__ modify the original array.  You are __forbidden__ to use any random number generator other than `random.getrandbits(1)`.\n"
   ]
  },
  {
   "cell_type": "code",
   "execution_count": 3,
   "metadata": {},
   "outputs": [],
   "source": [
    "from random import getrandbits\n",
    "\n",
    "def shuffleArray(data):\n",
    "    original_data=data\n",
    "    shuffled_data=shuffleArrayrecursive(original_data)\n",
    "    return shuffled_data\n",
    "\n",
    "def shuffleArrayrecursive(data):\n",
    "    ## BEGIN SOLUTION\n",
    "    n = len(data)\n",
    "    if n == 1:\n",
    "        return data\n",
    "    elif n == 2:\n",
    "        if getrandbits(1):\n",
    "            data[0],data[1] = data[1],data[0]\n",
    "        return data\n",
    "    else:\n",
    "        data_1 = shuffleArrayrecursive(data[:int(n/2)])\n",
    "        data_2 = shuffleArrayrecursive(data[int(n/2):])\n",
    "        n_1 = len(data_1)\n",
    "        n_2 = len(data_2)\n",
    "        counter_1=0\n",
    "        counter_2=0\n",
    "        counter_merge=0\n",
    "        while(counter_1 < n_1 or counter_2 < n_2):\n",
    "            if counter_1 < n_1 and counter_2 < n_2:\n",
    "                if getrandbits(1):\n",
    "                    data[counter_merge] = data_1[counter_1]\n",
    "                    counter_1 += 1\n",
    "                else:\n",
    "                    data[counter_merge] = data_2[counter_2]\n",
    "                    counter_2 += 1\n",
    "            elif counter_1 < n_1:\n",
    "                data[counter_merge] = data_1[counter_1]\n",
    "                counter_1 += 1\n",
    "            else:\n",
    "                data[counter_merge] = data_2[counter_2]\n",
    "                counter_2 += 1\n",
    "            counter_merge += 1\n",
    "        return data\n",
    "    ## END SOLUTION"
   ]
  },
  {
   "cell_type": "code",
   "execution_count": 4,
   "metadata": {},
   "outputs": [
    {
     "data": {
      "image/png": "[encoded data removed]",
      "text/plain": [
       "<Figure size 432x288 with 1 Axes>"
      ]
     },
     "metadata": {},
     "output_type": "display_data"
    },
    {
     "data": {
      "image/png": "[encoded data removed]",
      "text/plain": [
       "<Figure size 432x288 with 1 Axes>"
      ]
     },
     "metadata": {},
     "output_type": "display_data"
    },
    {
     "data": {
      "image/png": "[encoded data removed]",
      "text/plain": [
       "<Figure size 432x288 with 1 Axes>"
      ]
     },
     "metadata": {},
     "output_type": "display_data"
    }
   ],
   "source": [
    "%matplotlib inline\n",
    "## Begin statistical tests\n",
    "import matplotlib.pyplot as plt\n",
    "\n",
    "def placementTest(n, nTrials, elt):\n",
    "    a = list(range(n))\n",
    "    where = []\n",
    "    for i in range(nTrials):\n",
    "        b = shuffleArray(a)\n",
    "        # find where element n/2 ended up\n",
    "        j = b.index(elt)\n",
    "        where.append(j)\n",
    "    plt.figure(\"Position of elt. %d\"%(elt))\n",
    "    plt.hist(where, bins=80)\n",
    "    plt.xlabel('Position of elt. %d'%(elt))\n",
    "    plt.ylabel('Frequency')\n",
    "    # TODO: Implement a xi-squared test \n",
    "    # for now let us eyeball the histograms.\n",
    "    # the histograms must be near uniform. \n",
    "\n",
    "placementTest(30, 10000, 10)\n",
    "placementTest(25, 10000, 7)\n",
    "placementTest(18, 10000, 0)\n",
    "       \n",
    "##  End statistical tests"
   ]
  },
  {
   "cell_type": "markdown",
   "metadata": {},
   "source": [
    "## Problem 2B  (5 Points)\n",
    "\n",
    "Analyze the expected running time of your algorithm in 2(A) and expected number of random bits used?"
   ]
  },
  {
   "cell_type": "markdown",
   "metadata": {},
   "source": [
    "## Answer (Expected Size: 5 lines).\n",
    "\n",
    ">$$The\\space Algorithm\\space is\\space similar\\space to\\space merge\\space sort.$$ \n",
    "\n",
    ">$$T(N)\\space=\\space T(\\frac{N}{2}) + T(\\frac{N}{2}) + T(c) + T(cN)$$\n",
    "\n",
    ">$$Therefore,\\space By\\space Master\\space Method\\space T(n)=\\Theta(nlog_2(n))$$\n",
    "\n",
    ">$$getrandbits(1)\\space is\\space used\\space once\\space in\\space every\\space recursion\\space and\\space 0\\space times\\space in\\space a\\space few\\space end\\space cases\\space$$\n",
    "\n",
    ">$$So,\\space we\\space can\\space say\\space that\\space expected\\space number\\space of\\space random\\space bits\\space used\\space = recursions\\space = nlog_2(n)+Cn = \\Theta(nlog_2(n))$$"
   ]
  },
  {
   "cell_type": "markdown",
   "metadata": {},
   "source": [
    "## Problem 3  (20 points)\n",
    "\n",
    "We insert keys from $1, \\ldots, n$ in a random order into a binary search tree. Throughout this problem,\n",
    "node $i$ refers to a node with key $i$. The _priority_ of a node is the rank order in which it is inserted\n",
    "into the tree with the root having priority $1$ and the very last node to be inserted having priority $n$.\n",
    "\n",
    "In class, we showed that a node $i$ is the ancestor of a node $j$ if and only if $i$ has the lowest priority amongst all nodes $\\{ i, \\ldots, j\\}$ (or $\\{ j, \\ldots, i\\}$ if $j < i$).\n",
    "\n",
    "(A) State and prove a condition for node $k$ to be a leaf in the tree.  For the purposes of this problem, a node is a leaf if both its children are NIL. \n",
    "\n",
    "(B) What is the probability that node $k$ is a leaf? __Hint:__ Your answer should analyze nodes $1, n$ separately from nodes $2, \\ldots, n-1$.\n",
    "\n",
    "(C) Calculate the expected number of leaf nodes. Your answer should be exact: asymptotic notations or bounds are not acceptable.\n"
   ]
  },
  {
   "cell_type": "markdown",
   "metadata": {},
   "source": [
    "### Answer (Expected Size: 15 lines)\n",
    "\n",
    ">A) A node k is a leaf if it is not an ancestor of any other node.\n",
    "\n",
    ">Proof: \n",
    "\n",
    ">Let's assume that node K is a leaf.\n",
    "\n",
    "> As Node k is a leaf, it won't have a right child or left child.\n",
    "\n",
    "> Node k is the ancestor of the nodes that are in the right child or left child sub trees.\n",
    "\n",
    "> As, the node k doesn't have a right child or left child it can't have a right or left child subtree.\n",
    "\n",
    "> Thus, we can say that there exists no such node who has the node k as ancestor.\n",
    "\n",
    "> Therefore, we can conclude that a leaf node k is not an ancestor of any other node.\n",
    "\n",
    "\n",
    ">B)\n",
    "\n",
    ">$node\\space 1\\space will\\space always\\space be\\space a\\space leaf\\space (left\\space child\\space).\\space if\\space k=1,\\space p(1)=1$\n",
    "\n",
    ">$node\\space n\\space will\\space always\\space be\\space a\\space leaf\\space (right\\space child\\space).\\space if\\space k=n,\\space p(n)=1$\n",
    "\n",
    "> probability that node k is an ancestor of node i \n",
    ">$=\\frac{(k-i)!}{(k-i+1)!}=\\frac{1}{k-i+1},if\\space k > i$\n",
    ">$=\\frac{(i-k)!}{(i-k+1)!}=\\frac{1}{i-k+1},if\\space i > k$\n",
    "\n",
    "> node 2 to n-1 p(k) = probability that k is not an ancestor of any node  = Product of (1 - probabilty that k is an ancestor of a node 0) to (1 - probabilty that k is an ancestor of a node k-1) and (1 - probabilty that k is an ancestor of a node k+1) to (1 - probabilty that k is an ancestor of a node k+1)\n",
    "\n",
    ">$= (1 - \\frac{1}{k-1})(1 - \\frac{1}{k-2})\\cdots(1 - \\frac{1}{k-(k-2)+1})(1 - \\frac{1}{k-(k-1)+1})(1-\\frac{1}{(k+1)-k+1})(1-\\frac{1}{(k+2)-k+1})\\cdots(1-\\frac{1}{(n-2)-k+1})(1-\\frac{1}{(n-1)-k+1})$\n",
    "\n",
    ">$=(\\frac{k-2}{k-1})(\\frac{k-3}{k-2})\\cdots(\\frac{2}{3})(\\frac{1}{2})(\\frac{1}{2})(\\frac{2}{3})\\cdots(\\frac{n-k-2}{n-k-1})(\\frac{n-k-1}{n-k})$\n",
    "\n",
    ">$$p(k)=\\frac{1}{(k-1)(n-k)}$$\n",
    "\n",
    ">C)$\\space Number\\space of\\space leaves\\space in\\space a\\space tree\\space = \\sum_{k=1}^{n}p(k)$\n",
    "\n",
    ">$=p(1)+p(n)+\\sum_{k=2}^{n-1}p(k)$\n",
    "\n",
    ">$=1+1+\\sum_{k=2}^{n-1}\\frac{1}{(k-1)(n-k)}$\n",
    "\n",
    ">$=1+1+\\frac{1}{(2-1)(n-2)}+\\frac{1}{(3-1)(n-3)}+\\frac{1}{(4-1)(n-4)}+\\cdots+\\frac{1}{((n-2)-1)(n-(n-2))}+\\frac{1}{((n-1)-1)(n-(n-1))}$\n",
    "\n",
    ">$=1+1+\\frac{1}{(1)(n-2)}+\\frac{1}{(2)(n-3)}+\\frac{1}{(3)(n-4)}+\\cdots+\\frac{1}{(n-3)(2)}+\\frac{1}{(n-2)(1)}$"
   ]
  },
  {
   "cell_type": "markdown",
   "metadata": {},
   "source": [
    "## Problem 4 (5 points)\n",
    "\n",
    "We wish to rapidly find the $k^{th}$ smallest element in a skip list. Describe what extra information you would store in each node of the list and how you would find the $k^{th}$ smallest element in a skip list using this information.  What is the running time of your search in the worst case.\n"
   ]
  },
  {
   "cell_type": "markdown",
   "metadata": {},
   "source": [
    "## Answer (Expected Size: 5 lines)\n",
    "\n",
    ">\n",
    ">"
   ]
  },
  {
   "cell_type": "markdown",
   "metadata": {},
   "source": [
    ">Information stored in each node: next node pointer, down node pointer, next node serial number, data\n",
    "\n",
    ">Start from the top most level of the skip list. If, next node serial number > k , use the down pointer for next node else use the next pointer.\n",
    "\n",
    ">A condition will come when next node serial number = k, i.e. the next node is the kth smallest element in the skip list.\n",
    "\n",
    ">The Worst case will be when on each level of skip list we need to move to next pointer and the down pointer.\n",
    "\n",
    ">$Worst\\space case\\space running\\space time\\space =\\space twice\\space  the\\space  no.\\space  of\\space  levels\\space  of\\space  skiplist\\space =\\space 2log_2n = \\Theta(log_2(n))$"
   ]
  },
  {
   "cell_type": "code",
   "execution_count": null,
   "metadata": {},
   "outputs": [],
   "source": []
  }
 ],
 "metadata": {
  "kernelspec": {
   "display_name": "Python 3",
   "language": "python",
   "name": "python3"
  },
  "language_info": {
   "codemirror_mode": {
    "name": "ipython",
    "version": 3
   },
   "file_extension": ".py",
   "mimetype": "text/x-python",
   "name": "python",
   "nbconvert_exporter": "python",
   "pygments_lexer": "ipython3",
   "version": "3.6.5"
  }
 },
 "nbformat": 4,
 "nbformat_minor": 2
}
