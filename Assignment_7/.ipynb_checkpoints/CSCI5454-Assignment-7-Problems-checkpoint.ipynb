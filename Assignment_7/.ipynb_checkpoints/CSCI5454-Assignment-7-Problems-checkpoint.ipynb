{
 "cells": [
  {
   "cell_type": "markdown",
   "metadata": {},
   "source": [
    "## Instructions\n",
    "\n",
    "__Your Name__ \n",
    "\n",
    "__Collaborated With__\n",
    "\n",
    "> This assignment is to be completed and uploaded to \n",
    "moodle as a python3 notebook. \n",
    "\n",
    "> Submission deadlines are posted on moodle. \n",
    "\n",
    "> The questions  provided  below will ask you to either write code or \n",
    "write answers in the form of markdown.\n",
    "\n",
    "> Markdown syntax guide is here: [click here](https://github.com/adam-p/markdown-here/wiki/Markdown-Cheatsheet)\n",
    "\n",
    "> Using markdown you can typeset formulae using latex.\n",
    "\n",
    "> This way you can write nice readable answers with formulae like thus:\n",
    "\n",
    ">> The algorithm runs in time $\\Theta\\left(n^{2.1\\log_2(\\log_2( n \\log^*(n)))}\\right)$, \n",
    "wherein $\\log^*(n)$ is the inverse _Ackerman_ function.\n",
    "\n",
    "__Double click anywhere on this box to find out how your instructor typeset it. Press Shift+Enter to go back. __\n"
   ]
  },
  {
   "cell_type": "markdown",
   "metadata": {},
   "source": [
    "# Problem 1 (10 points)\n",
    "\n",
    "You are given a directed graph $G: (V, E)$ using an adjacency list representation and a vertex (node) $u$ of the graph. Write a single algorithm to perform the following tasks:\n",
    "\n",
    "__(A)__ Check (true/false) whether the vertex $u$ belongs to a cycle, and \n",
    "__(B)__ If true for part (A), also compute the smallest length cycle involving the vertex $u$.\n",
    "\n",
    "Write down the complexity in terms of the number of vertices $|V|$ and the number of edges $|E|$.\n",
    "You should definitely use algorithms that you have already learned in class as subroutines. "
   ]
  },
  {
   "cell_type": "markdown",
   "metadata": {},
   "source": [
    "## Answer 1 (Expected Length: 6 lines).\n",
    "\n",
    "\n",
    "\n",
    "\n",
    "\n",
    "\n",
    "\n",
    "\n",
    ".....\n",
    "\n",
    "\n",
    ".....\n",
    "\n",
    "\n",
    "....."
   ]
  },
  {
   "cell_type": "markdown",
   "metadata": {},
   "source": [
    "## Question 2: Testing Moth Age Expert (10 Points)\n",
    "\n",
    "A person claims to have spent his entire life studying the emperor gum moth  *Opodiphthera eucalypti*. \n",
    "Given two moth samples, he claims to tell us which one is the older. Of course, \n",
    "we ourselves are no experts and all the moths look the same age to us.\n",
    "\n",
    "We test the person as follows: (a) collect a large number $n$ of e.g. moth specimen and give each moth a number; (b)  choose each pair of moths (there are $\\binom{n}{2}$ such pairs) from our collection, and have the person tell us which one is older; \n",
    "(c) record their answers for each pair and analyze them to see if they \"make sense\".\n",
    "\n",
    "Come up with a simple test that checks if the expert's answers \"make sense\", and  devise an algorithm to carry out the test you devise (it can simply be running a known algorithm). Also what is the running time?\n",
    "\n",
    "\n",
    "**Hint:** We have refrained from discussing what \"making sense\" means in this case. But can provide you an example as a hint.\n",
    "\n",
    "__Example__ \n",
    "\n",
    "Suppose $n= 4$ and the expert says that\n",
    "\n",
    "Specimen \\# $1$ is older than $2$, $3$ is older than $4$, $4$ is older than $2$ and $2$ is older\n",
    "than $3$.\n",
    "\n",
    "The expert's opinion is clearly /nonsense/, and why?\n",
    "\n"
   ]
  },
  {
   "cell_type": "markdown",
   "metadata": {},
   "source": [
    "## Answer 2 ( Expected Length: 5 Lines)\n",
    "\n",
    "...\n",
    "\n",
    "...\n",
    "\n",
    "...\n",
    "\n",
    "...\n",
    "\n",
    "....\n"
   ]
  },
  {
   "cell_type": "markdown",
   "metadata": {},
   "source": [
    "## Question 3: Arbitrage Opportunities (15 points)\n",
    "\n",
    "An arbitrage in finance is a way to make money for sure without much risk. For instance, suppose 1 USD yields 5 Chinese RMB and 1 RMB trades for 0.4 Euros, and 1 Euro trades for 0.52 USD,  you have an arbitrage opportunity\n",
    "wherein you can take x USD, obtain 5x RMB, and in turn trade them for 2x Euros and finally end up with 1.02x USD back. Every time you exercise this opportunity, you get a 2 cent profit (assuming you can trade for free and there is no spread in the buying and selling prices, but that is another can of worms).\n",
    "\n",
    "In theory, arbitrage cannot exist in efficient markets but they can persist for a short amount of time. Electronic traders can then search for such opportunities in real time and rapidly exploit them.\n",
    "\n",
    "You are given a basket of $n$ currencies and for each pair of currencies $(C_i,C_j)$, you are given a ratio\n",
    "$R_{i,j}$ that says that one unit of currency $C_i$ is currently fetching $R_{i,j}$ units of $C_j$.\n",
    "\n",
    "__(A)__ Given the ratios $R_{i,j}$ write an efficient algorithm that can detect if any arbitrage opportunities currently exist? What is the running time of your algorithm?\n",
    "\n",
    "(__Hint:__ Make a graph out of the problem data. What does the presence of arbitrage mean for this graph? )\n",
    "\n",
    "__(B)__ We are not just interested in finding an arbitrage opportunity, but also interested in finding the shortest length opportunity, defined as one that involves the smallest number of trades? Naturally, given that prices change\n",
    "and also given that there are trading fees, such opportunities are more desirable. \n",
    "\n",
    "Write an algorithm to find the smallest length arbitrage opportunity? What is the running time for your algorithm?\n",
    "\n",
    "(__Hint:__ Modify the Floyd Warshall algorithm you learned this week. In particular, how do you detect if there is a negative weight cycle of length k in the graph?)\n"
   ]
  },
  {
   "cell_type": "markdown",
   "metadata": {},
   "source": [
    "## Answer 3 (Expected Length: 12 lines).\n",
    "\n",
    "...\n",
    "\n",
    "...\n",
    "\n",
    "...\n",
    "\n",
    "\n",
    "...\n",
    "\n",
    "\n",
    "..."
   ]
  },
  {
   "cell_type": "markdown",
   "metadata": {},
   "source": [
    "## Question 4 (15 points)\n",
    "\n",
    "In radio wireless networks, it is possible for links to rapidly go down or come up as wireless nodes may move around and either go out of transmission range or come into range. Consider a system with $n$ wireless nodes \n",
    "that move around creating a sequence of graphs  $G_1, \\ldots, G_K$ where at each  $G_i$ has a fixed number of vertices $\\{ 1, \\ldots, n \\}$ but  different set of edges $E_i$.\n",
    "\n",
    "Our goal is to maintain a path $P$ from a source node $s$ to a fixed destination $t$.  It is desirable that this\n",
    "path be as short as possible in terms of number of edges, but it is also desirable that a path be \"long lived\"\n",
    "assuming that the sequence of graphs over time  $G_1, \\ldots, G_K$ is fully known in advance.\n",
    "\n",
    "Assume that it is possible to find paths from $s$ to $t$ in each of the graphs $G_1, \\ldots, G_K$.\n",
    "\n",
    "\n",
    "__(A)__ Write an algorithm to find the weight of the shortest common path between $s$ and $t$ in graphs $G_i, \\ldots, G_{j}$ ($\\infty$ if no such path exists). What is the complexity of your algorithm? **Hint** Construct a a new graph and run Dijkstra. What graph would you construct and how?\n",
    "\n",
    "__(B)__ We wish to now find an optimal set of paths $P_1, \\ldots, P_l$ such that there exist\n",
    "indices $1 < i_1 <  \\cdots < i_{l-1} < K$ such that (a) path $P_1$ is\n",
    "common between $G_1, \\ldots, G_{i_1}$, (b) $P_2$ is common between $G_{i_1+1}, \\ldots, G_{i_2}$,\n",
    "(c) in general $P_j$ is common between $G_{i_{j-1}+1}, \\ldots, G_{i_j}$ and finally (d) $P_l$ is\n",
    "common between $G_{i_{l-1}+1}, \\ldots, G_K$. Further, \n",
    "the total \n",
    "cost is minimized:\n",
    "\n",
    "$$\\text{cost}(P_1, \\ldots, P_l) = \\sum_{j=1}^l \\mbox{length}(P_j) + C \\times l) $$  \n",
    "\n",
    "Here $\\mbox{length}(P_j)$ is the number of edges in $P_j$ and $C$ is the cost for each change\n",
    "of path and there are $l$ paths. Write an algorithm for finding the paths and the optimal cost.\n",
    "\n",
    "(**Hint**: Build some sort of a \"meta-graph\" with nodes $1, \\ldots, K+1$ and edges from $i$ to $j$ for each pair $i < j$, denoting the\n",
    "minimum cost path that is common to all of the graphs $G_i, \\ldots, G_{j-1}$.  First consider the cost of\n",
    "building such a graph. Next, think about how the original problem can be solved in terms of this\n",
    "graph?)\n"
   ]
  },
  {
   "cell_type": "markdown",
   "metadata": {},
   "source": [
    "## Answer 4 (Expected Size: 15 lines)\n",
    "\n",
    "..\n",
    "\n",
    "\n",
    "...\n",
    "\n",
    "....\n",
    "\n",
    ".....\n",
    "\n",
    "......\n",
    "\n",
    "........"
   ]
  }
 ],
 "metadata": {
  "kernelspec": {
   "display_name": "Python 3",
   "language": "python",
   "name": "python3"
  },
  "language_info": {
   "codemirror_mode": {
    "name": "ipython",
    "version": 3
   },
   "file_extension": ".py",
   "mimetype": "text/x-python",
   "name": "python",
   "nbconvert_exporter": "python",
   "pygments_lexer": "ipython3",
   "version": "3.6.5"
  }
 },
 "nbformat": 4,
 "nbformat_minor": 2
}
