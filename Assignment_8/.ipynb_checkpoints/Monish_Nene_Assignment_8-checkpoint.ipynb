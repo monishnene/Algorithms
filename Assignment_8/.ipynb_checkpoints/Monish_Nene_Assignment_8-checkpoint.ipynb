{
 "cells": [
  {
   "cell_type": "markdown",
   "metadata": {},
   "source": [
    "# CSCI 5454 : Assignment 8 \n",
    "\n",
    "__Your Name:__ Monish Nene\n",
    "\n",
    "Collaborated with: \n",
    "\n"
   ]
  },
  {
   "cell_type": "markdown",
   "metadata": {},
   "source": [
    "## Problem 1: NeuroSAT (15 points)\n",
    "\n",
    "A binarized neural network has $n$  inputs $x_1, \\ldots, x_n$ which can be set to $\\pm 1$, and is composed of hidden neurons $N_1, \\ldots, N_K$.\n",
    "\n",
    "Each neuron $N_i$ is connected to previous neurons $N_{1}, \\ldots, N_{i-1}$ using edges with weights $w_{i,1}, \\ldots, w_{i,i-1}$ and with inputs $x_1, \\ldots, x_n$ using edges with weights $v_{i,1}, \\ldots, v_{i,n}$. \n",
    "\n",
    "\n",
    "\n",
    "The output $z_i$ of the $i^{th}$ neuron is given by  $$ z_i = \\sigma\\left( b_i + \\sum_{j=1}^{i-1} w_{i,j} z_j + \\sum_{k=1}^{n} v_{i,j} x_j \\right)$$ \n",
    "\n",
    "\n",
    "- $z_{j}$ is the output of the $j^{th}$ neuron.\n",
    "- $w_{i,j}$ is the weight of the connection between $i^{th}$ neuron in $j^{th}$ neuron (note that $j < i$).\n",
    "- $v_{i,j}$ is the weight of the connection between $i^{th}$ neuron and $j^{th}$ input.\n",
    "- $b_{i}$ is a constant called the \"bias\" of the neuron $N_i$.\n",
    "- $\\sigma$ is the step activation function wherein  $\\sigma(x) = \\begin{cases} +1 & x \\geq 0 \\\\\n",
    "-1 & x < 0 \\\\\n",
    "\\end{cases}$.\n",
    "\n",
    "The last neuron $N_K$ is designated as the output.\n",
    "\n",
    "Each input to the network is $+1$ or $-1$. \n",
    "\n",
    "*NeuroSAT Problem:* Given a network with all the edge weights and biases, we wish to know if it is possible to provide inputs to the network such that the  output of the last neuron is $+1$.\n",
    "\n",
    "Show that the NeuroSAT problem is NP-complete.\n",
    "\n",
    "(a) First show that it is in NP.\n",
    "\n",
    "(b) Next, provide neural networks that can mimic binary AND/OR gates and the unary NOT gate.\n",
    "\n",
    "(c) Finally, complete the reduction from the problem of deciding if a given Boolean circuit is satisfiable to \n",
    "the problem of solving NeuroSAT.\n"
   ]
  },
  {
   "cell_type": "markdown",
   "metadata": {},
   "source": [
    "## Answer (Expected Size: 12 lines)\n",
    ">To prove that this problem is a NP I will reduce a Boolean Circuit  (a proven NP Complete problem) to this problem.\n",
    "\n",
    ">Let's consider a Boolean Circuit with $n$ inputs $X_1$ to $X_n$. Let there be $K$ node $N_1$ to $N_k$ and the output of the node $N_k$ will be the final output of the system. We have to find if this output can be $1$.  \n",
    "\n",
    "> Let the edges be gates and thus the edge value will be NOT gate present or absent. \n",
    "\n",
    ">If $Z_i$ is output of a node $i$, then $V_{i,j}$ is the edge that connects the node $i$ to input $X_j$ and $W_{i,j}$ is the edge that connects node $i$ to node $j$ with output $Z_j$.\n",
    "\n",
    ">The output Zi will always be 1 or 0 as the gates will never give an intermediate output. 0 will be similar to -1.\n",
    "\n",
    "> We can write $$Zi=(Z_1|!Z_2|!Z_3 \\cdots Z_{j-3}|!Z_{j-2}|Z_{j-1})\\&(!X_1|X_2|!X_3 \\cdots X_{n-2}|X_{n-1}|X_{n})$$\n",
    "\n",
    ">$Z_k$ will be the required output, which we have to check if is $1$ under any given set of inputs $X_1$ to $X_n$.\n",
    "\n",
    ">As we reduced a boolean circuit NP complete problem to our problem we can say that our problem is NP complete.\n",
    "\n",
    ">\n",
    "\n",
    ">\n",
    "\n",
    ">\n",
    "\n",
    ">\n",
    "\n",
    ">\n"
   ]
  },
  {
   "cell_type": "markdown",
   "metadata": {},
   "source": [
    "## Problem 2: Vertex Cover Problem as an 0-1 Integer Linear Program (10 points)\n",
    "\n",
    "Consider an undirected graph $G$ with $n$ nodes and $m$ edges. A vertex cover is a subset $S$ of the\n",
    "vertices of the graph such that for every edge $e$, at least one of its end points belongs to the cover.\n",
    "We wish to find a vertex cover that involves the smallest number of vertices.\n",
    "Formulate a $0-1$ ILP for the minimal vertex cover problem.\n",
    "\n",
    "You should clearly answer the following questions:\n",
    "- What are your decision variables?\n",
    "- What are the constraints for your problem?\n",
    "- What is the objective and do you maximize it or minimize it?\n"
   ]
  },
  {
   "cell_type": "markdown",
   "metadata": {},
   "source": [
    "## Answer (Expected Size: 6 lines)\n",
    "\n",
    "> This problem is similar to the problem of finding a cyclic path less than cost W=n.  \n",
    "\n",
    "> Let all edges m be of cost 1. \n",
    "\n",
    "> Decision Variables = Cost of the edges that we connect to form a cyclic route.\n",
    "\n",
    "> Constraints = We have to find a cyclic route that passes through atleast one of the two nodes on all the edges.\n",
    "\n",
    "> Objective = Minimize the cost of the route.\n",
    "\n",
    ">The vertices on the cyclic route will be the vertices S in the vertex cover subset, thus, minimizing the cost of the route will eventually reduce the number of vertices S. "
   ]
  },
  {
   "cell_type": "markdown",
   "metadata": {},
   "source": [
    "## Problem 3: Min Truth 2-SAT is NP Complete (10 points)\n",
    "\n",
    "Given that the vertex cover problem is NP-Complete: \n",
    "- Input: An undirected graph and bound K.\n",
    "- Output: Is there a vertex cover with at most $K$ vertices in it. \n",
    "\n",
    "See previous problem for definition of vertex cover.\n",
    "\n",
    "Prove that the Min Truth 2-SAT problem is NP Complete.\n",
    "- Input: A CNF SAT problem with at most 2 variables per clause and bound $K$\n",
    "- Output: Is there a satisfying truth assignment which assigns at most $K$ variables to true.\n"
   ]
  },
  {
   "cell_type": "markdown",
   "metadata": {},
   "source": [
    "## Answer (Expected Size: 10 lines)\n",
    ">To prove that Min Truth 2-SAT problem is NP complete, I will reduce vertex cover problem (given as NP-Complete) to Min Truth 2-SAT.\n",
    "\n",
    "> If there are K vertices, there will be $KC_2$ edges.\n",
    "\n",
    "> Each edge will have 2 vertices.\n",
    "\n",
    "> We will use these 2 vertices as clauses for Min truth 2-SAT. $C=K_1|K_2$. The clauses will be true when any of the vertex is assigned true. \n",
    "\n",
    "> We will have a dummy case for each truth assignment $1,0,0 \\cdots 0,0$ \n",
    "\n",
    "> In this way the last line will be truth assignment = $1,1,1 \\cdots ,1,1$ clauses = $2,2,2 \\cdots ,2,2$\n",
    "\n",
    "> We will search for the clauses where we have $K$ $2$\n",
    "\n",
    "> If there is such a truth assignment then we know there is a satisfying truth assignment which assigns at most K variables to true.\n",
    "\n",
    "> This condition will correspond to Vertex cover with at the most K vertices in it.\n",
    "\n",
    "> The minimum value of the truth assignment will be our solution for Vertex cover, where all the vertices that are true come under the vertex cover."
   ]
  },
  {
   "cell_type": "markdown",
   "metadata": {},
   "source": [
    "## Problem 4: ItemChoice Problem (10 points)\n",
    "\n",
    "Prove that the ItemChoice is NP complete.\n",
    "- We have items $1, \\ldots, N$. \n",
    "- Item number $i$ has cost $c_i$ and value $v_i$.\n",
    "- We wish to select a subset of items whose total cost is less than or equal to our budget $B$ \n",
    "\n",
    "The ItemChoice problem asks if a subset of items whose total costs fall below $B$ can be chosen\n",
    "such that the value of chosen items exceeds $V$.\n",
    "\n",
    "Inputs to the problem are $N, B, V $, item costs $c_1, \\ldots, c_N$, and item values $v_1, \\ldots, v_N$.\n",
    "\n",
    "**Hint:** Use the SUBSET-SUM problem as the starting point."
   ]
  },
  {
   "cell_type": "markdown",
   "metadata": {},
   "source": [
    "## Answer (Expected Size: 12 lines)\n",
    "> I will reduce the subset sum problem (which is proven NP Complete) to item choice problem to prove that Item choice problem is a NP.\n",
    "\n",
    "> I will take 2 separate subset sum problem cases. \n",
    "\n",
    "\n",
    "> In case 1, for N numbers, I want to find the sum of numbers that is equal to number $B$. \n",
    "> In case 2, for N numbers, I want to find the sum of numbers that is equal to a number $V$. \n",
    " \n",
    "> Equality is inequality in 2 directions, so we can convert the 2 cases into following.\n",
    "\n",
    "> In case 1, for N numbers, I want to find the sum of $K4 numbers that is less than a number $B$. \n",
    "\n",
    "> In case 2, for N numbers, I want to find the sum of $K$ numbers that is more than a number $V$. \n",
    " \n",
    "> If we combine case 1 and case 2, We can say that we want to pick $K$ numbers from set 1 and set 2 such that Sum of set 1 less than $B$ and sum of set 2 greater than $V$.\n",
    "\n",
    "> We can link the 2 sets such that if we pick $i^{th}$ element from set 1 we will have to pick number $i^{th}$ element from set 2. \n",
    "\n",
    "> This combination of case 1 and case 2 will still be a NP.\n",
    "\n",
    "> This combination will be equivalent to Item choice problem where the case 1 is cost which must be less than $B$ and case 2 is value which must be greater than $V$."
   ]
  },
  {
   "cell_type": "code",
   "execution_count": null,
   "metadata": {},
   "outputs": [],
   "source": []
  }
 ],
 "metadata": {
  "kernelspec": {
   "display_name": "Python 3",
   "language": "python",
   "name": "python3"
  },
  "language_info": {
   "codemirror_mode": {
    "name": "ipython",
    "version": 3
   },
   "file_extension": ".py",
   "mimetype": "text/x-python",
   "name": "python",
   "nbconvert_exporter": "python",
   "pygments_lexer": "ipython3",
   "version": "3.6.5"
  }
 },
 "nbformat": 4,
 "nbformat_minor": 2
}
