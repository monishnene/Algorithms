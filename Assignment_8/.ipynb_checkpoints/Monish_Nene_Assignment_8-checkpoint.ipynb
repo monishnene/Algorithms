{
 "cells": [
  {
   "cell_type": "markdown",
   "metadata": {},
   "source": [
    "# CSCI 5454 : Assignment 8 \n",
    "\n",
    "__Your Name:__ \n",
    "\n",
    "Collaborated with: \n",
    "\n"
   ]
  },
  {
   "cell_type": "markdown",
   "metadata": {},
   "source": [
    "## Problem 1: NeuroSAT (15 points)\n",
    "\n",
    "A binarized neural network has $n$  inputs $x_1, \\ldots, x_n$ which can be set to $\\pm 1$, and is composed of hidden neurons $N_1, \\ldots, N_K$.\n",
    "\n",
    "Each neuron $N_i$ is connected to previous neurons $N_{1}, \\ldots, N_{i-1}$ using edges with weights $w_{i,1}, \\ldots, w_{i,i-1}$ and with inputs $x_1, \\ldots, x_n$ using edges with weights $v_{i,1}, \\ldots, v_{i,n}$. \n",
    "\n",
    "\n",
    "\n",
    "The output $z_i$ of the $i^{th}$ neuron is given by  $$ z_i = \\sigma\\left( b_i + \\sum_{j=1}^{i-1} w_{i,j} z_j + \\sum_{k=1}^{n} v_{i,j} x_j \\right)$$ \n",
    "\n",
    "\n",
    "- $z_{j}$ is the output of the $j^{th}$ neuron.\n",
    "- $w_{i,j}$ is the weight of the connection between $i^{th}$ neuron in $j^{th}$ neuron (note that $j < i$).\n",
    "- $v_{i,j}$ is the weight of the connection between $i^{th}$ neuron and $j^{th}$ input.\n",
    "- $b_{i}$ is a constant called the \"bias\" of the neuron $N_i$.\n",
    "- $\\sigma$ is the step activation function wherein  $\\sigma(x) = \\begin{cases} +1 & x \\geq 0 \\\\\n",
    "-1 & x < 0 \\\\\n",
    "\\end{cases}$.\n",
    "\n",
    "The last neuron $N_K$ is designated as the output.\n",
    "\n",
    "Each input to the network is $+1$ or $-1$. \n",
    "\n",
    "*NeuroSAT Problem:* Given a network with all the edge weights and biases, we wish to know if it is possible to provide inputs to the network such that the  output of the last neuron is $+1$.\n",
    "\n",
    "Show that the NeuroSAT problem is NP-complete.\n",
    "\n",
    "(a) First show that it is in NP.\n",
    "\n",
    "(b) Next, provide neural networks that can mimic binary AND/OR gates and the unary NOT gate.\n",
    "\n",
    "(c) Finally, complete the reduction from the problem of deciding if a given Boolean circuit is satisfiable to \n",
    "the problem of solving NeuroSAT.\n"
   ]
  },
  {
   "cell_type": "markdown",
   "metadata": {},
   "source": [
    "## Answer (Expected Size: 12 lines)\n",
    "\n",
    "\n",
    "\n",
    "\n",
    "\n",
    ".....\n"
   ]
  },
  {
   "cell_type": "markdown",
   "metadata": {},
   "source": [
    "## Problem 2: Vertex Cover Problem as an 0-1 Integer Linear Program (10 points)\n",
    "\n",
    "Consider an undirected graph $G$ with $n$ nodes and $m$ edges. A vertex cover is a subset $S$ of the\n",
    "vertices of the graph such that for every edge $e$, at least one of its end points belongs to the cover.\n",
    "We wish to find a vertex cover that involves the smallest number of vertices.\n",
    "Formulate a $0-1$ ILP for the minimal vertex cover problem.\n",
    "\n",
    "You should clearly answer the following questions:\n",
    "- What are your decision variables?\n",
    "- What are the constraints for your problem?\n",
    "- What is the objective and do you maximize it or minimize it?\n"
   ]
  },
  {
   "cell_type": "markdown",
   "metadata": {},
   "source": [
    "## Answer (Expected Size: 6 lines)\n",
    "\n",
    "...."
   ]
  },
  {
   "cell_type": "markdown",
   "metadata": {},
   "source": [
    "## Problem 3: Min Truth 2-SAT is NP Complete (10 points)\n",
    "\n",
    "Given that the vertex cover problem is NP-Complete: \n",
    "- Input: An undirected graph and bound K.\n",
    "- Output: Is there a vertex cover with at most $K$ vertices in it. \n",
    "\n",
    "See previous problem for definition of vertex cover.\n",
    "\n",
    "Prove that the Min Truth 2-SAT problem is NP Complete.\n",
    "- Input: A CNF SAT problem with at most 2 variables per clause and bound $K$\n",
    "- Output: Is there a satisfying truth assignment which assigns at most $K$ variables to true.\n"
   ]
  },
  {
   "cell_type": "markdown",
   "metadata": {},
   "source": [
    "## Answer (Expected Size: 10 lines)\n",
    "\n",
    "\n",
    "...."
   ]
  },
  {
   "cell_type": "markdown",
   "metadata": {},
   "source": [
    "## Problem 4: ItemChoice Problem (10 points)\n",
    "\n",
    "Prove that the ItemChoice is NP complete.\n",
    "- We have items $1, \\ldots, N$. \n",
    "- Item number $i$ has cost $c_i$ and value $v_i$.\n",
    "- We wish to select a subset of items whose total cost is less than or equal to our budget $B$ \n",
    "\n",
    "The ItemChoice problem asks if a subset of items whose total costs fall below $B$ can be chosen\n",
    "such that the value of chosen items exceeds $V$.\n",
    "\n",
    "Inputs to the problem are $N, B, V $, item costs $c_1, \\ldots, c_N$, and item values $v_1, \\ldots, v_N$.\n",
    "\n",
    "**Hint:** Use the SUBSET-SUM problem as the starting point."
   ]
  },
  {
   "cell_type": "markdown",
   "metadata": {},
   "source": [
    "## Answer (Expected Size: 12 lines)\n",
    "\n",
    "....\n",
    "\n",
    "\n"
   ]
  }
 ],
 "metadata": {
  "kernelspec": {
   "display_name": "Python 3",
   "language": "python",
   "name": "python3"
  },
  "language_info": {
   "codemirror_mode": {
    "name": "ipython",
    "version": 3
   },
   "file_extension": ".py",
   "mimetype": "text/x-python",
   "name": "python",
   "nbconvert_exporter": "python",
   "pygments_lexer": "ipython3",
   "version": "3.6.5"
  }
 },
 "nbformat": 4,
 "nbformat_minor": 2
}
