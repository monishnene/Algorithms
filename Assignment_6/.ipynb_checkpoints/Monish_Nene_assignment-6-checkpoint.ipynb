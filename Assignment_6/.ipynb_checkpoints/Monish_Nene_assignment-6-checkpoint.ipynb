{
 "cells": [
  {
   "cell_type": "markdown",
   "metadata": {},
   "source": [
    "# CSCI 5454 Assignment 6"
   ]
  },
  {
   "cell_type": "markdown",
   "metadata": {},
   "source": [
    "## Instructions\n",
    "\n",
    "Name: Monish Nene\n",
    "\n",
    "Collaborated With: \n",
    "\n",
    "> This assignment is to be completed and uploaded to \n",
    "moodle as a python3 notebook. \n",
    "\n",
    "> Submission deadlines are posted on moodle. \n",
    "\n",
    "> The questions  provided  below will ask you to either write code or \n",
    "write answers in the form of markdown.\n",
    "\n",
    "> Markdown syntax guide is here: [click here](https://github.com/adam-p/markdown-here/wiki/Markdown-Cheatsheet)\n",
    "\n",
    "> Using markdown you can typeset formulae using latex.\n",
    "\n",
    "> This way you can write nice readable answers with formulae like thus:\n",
    "\n",
    ">> The algorithm runs in time $\\Theta\\left(n^{2.1\\log_2(\\log_2( n \\log^*(n)))}\\right)$, \n",
    "wherein $\\log^*(n)$ is the inverse _Ackerman_ function.\n",
    "\n",
    "__Double click anywhere on this box to find out how your instructor typeset it. Press Shift+Enter to go back. __\n"
   ]
  },
  {
   "cell_type": "markdown",
   "metadata": {},
   "source": [
    "## Question 1: Dynamic Programmer Jane's Progress\n",
    "\n",
    "**Note:** Need to connect to internet to see images. \n",
    "\n",
    "We are writing a simple game AI for guiding our `Jane` the dynamic programmer to jump through a set of levels to reach a target level by taking\n",
    "courses in dynamic programming.\n",
    "\n",
    "The levels positions are numbered 1, ... , n. The character starts at level 1 and the goal is to reach level n (where she becomes\n",
    "a d.p. ninja) and thus aces CSCI 5454.\n",
    "After taking a course, she can choose to move up by 1, 4, 5 or 11 levels forward at each step. No backward jumps are available.\n",
    "\n",
    "<img src=\"http://www.cs.colorado.edu/~srirams/courses/csci5454-fall18/pictures/jane-picture-p1.png\">\n",
    "\n",
    "Your goal is to use dynamic programming to find out how to reach from level 1 to level n with the minimum number of courses.\n",
    "\n",
    "## 1(A) Write a recurrence.\n",
    "\n",
    "Write a recurrence `minCoursesForJane(j, n)` that represents the minimum number of steps for Jane to reach from level j to level n.\n"
   ]
  },
  {
   "cell_type": "code",
   "execution_count": 34,
   "metadata": {},
   "outputs": [],
   "source": [
    "from math import inf\n",
    "data={}\n",
    "def minCoursesForJane(j, n): \n",
    "    if n == 1:\n",
    "        return 0\n",
    "    if n <= 1:\n",
    "        return inf\n",
    "    diff=n-j\n",
    "    if (diff == 1)|(diff == 4)|(diff == 5)|(diff == 11):\n",
    "        return 1\n",
    "    else:\n",
    "        courses=[minCoursesForJane(j,n-1),minCoursesForJane(j,n-4),minCoursesForJane(j,n-5),minCoursesForJane(j,n-11)]\n",
    "        least=1+min(courses)\n",
    "        data[n]=least\n",
    "    return least"
   ]
  },
  {
   "cell_type": "code",
   "execution_count": 35,
   "metadata": {},
   "outputs": [
    {
     "name": "stdout",
     "output_type": "stream",
     "text": [
      "2\n",
      "2\n",
      "4\n",
      "3\n",
      "5\n"
     ]
    }
   ],
   "source": [
    "## Test Code: Do not edit\n",
    "print(minCoursesForJane(1, 9)) # should be 2\n",
    "print(minCoursesForJane(1, 13)) # should be 2\n",
    "print(minCoursesForJane(1, 19)) # should be 4\n",
    "print(minCoursesForJane(1, 34)) # should be 3\n",
    "print(minCoursesForJane(1, 43)) # should be 5"
   ]
  },
  {
   "cell_type": "markdown",
   "metadata": {},
   "source": [
    "## 1(B) Memoize the Recurrence.\n",
    "\n",
    "Assume that n is fixed. The memo table $T[0], \\ldots, T[n]$ should store the value of `minCoursesForJane(j, n)`. "
   ]
  },
  {
   "cell_type": "code",
   "execution_count": 25,
   "metadata": {},
   "outputs": [],
   "source": [
    "from math import inf\n",
    "def minCoursesForJane_Memoize(n): # Assume that j = 1 is always the starting point.\n",
    "    if n == 1:\n",
    "        return 0\n",
    "    if n <= 0:\n",
    "        return inf\n",
    "    if n in data:\n",
    "        return data[n]\n",
    "    else:\n",
    "        courses=[minCoursesForJane_Memoize(n-1),minCoursesForJane_Memoize(n-4),minCoursesForJane_Memoize(n-5),minCoursesForJane_Memoize(n-11)]\n",
    "        least=1+min(courses)\n",
    "        data[n]=least\n",
    "    return least"
   ]
  },
  {
   "cell_type": "code",
   "execution_count": 26,
   "metadata": {},
   "outputs": [
    {
     "name": "stdout",
     "output_type": "stream",
     "text": [
      "2\n",
      "2\n",
      "4\n",
      "5\n",
      "5\n"
     ]
    }
   ],
   "source": [
    "## Test Code: Do not edit\n",
    "print(minCoursesForJane_Memoize(9)) # should be 2\n",
    "print(minCoursesForJane_Memoize(13)) # should be 2\n",
    "print(minCoursesForJane_Memoize(19)) # should be 4\n",
    "print(minCoursesForJane_Memoize(34)) # should be 3\n",
    "print(minCoursesForJane_Memoize(43)) # should be 5"
   ]
  },
  {
   "cell_type": "markdown",
   "metadata": {},
   "source": [
    "## 1(C) Recover the Solution\n",
    "\n",
    "Modify the solution from part B to also return how many steps Jane needs to jump at each course.  Your answer must be\n",
    "a pair: `minimum number of courses, list of jumps at each course: each elements of this list must be 1, 4, 5 or 11`\n"
   ]
  },
  {
   "cell_type": "code",
   "execution_count": 14,
   "metadata": {},
   "outputs": [],
   "source": [
    "from math import inf\n",
    "data_1C={}\n",
    "\n",
    "def minCoursesForJane_Solution(n): # Assume that j = 1 is always the starting point\n",
    "    append_value=0\n",
    "    if n == 1:\n",
    "        return [0,[]]\n",
    "    elif n <= 0:\n",
    "        return [inf,[]]\n",
    "    else:\n",
    "        least=inf\n",
    "        try:\n",
    "            d=data_1C[n-1]\n",
    "        except KeyError:   \n",
    "            d=minCoursesForJane_Solution(n-1)\n",
    "        try:\n",
    "            c=data_1C[n-4]\n",
    "        except KeyError:   \n",
    "            c=minCoursesForJane_Solution(n-4)\n",
    "        try:\n",
    "            b=data_1C[n-5]\n",
    "        except KeyError:   \n",
    "            b=minCoursesForJane_Solution(n-5)\n",
    "        try:\n",
    "            a=data_1C[n-11]\n",
    "        except KeyError:   \n",
    "            a=minCoursesForJane_Solution(n-11)\n",
    "        compare=[a[0],b[0],c[0],d[0]]\n",
    "        least=min(compare)\n",
    "        if a[0]==least:\n",
    "            append_value=11\n",
    "            final=a\n",
    "        elif b[0]==least:\n",
    "            append_value=5\n",
    "            final=b\n",
    "        elif c[0]==least:\n",
    "            append_value=4\n",
    "            final=c\n",
    "        elif d[0]==least:\n",
    "            append_value=1\n",
    "            final=d \n",
    "        k=[0,[]]\n",
    "        k[0]=int(final[0])+1\n",
    "        for x in final[1]:\n",
    "            k[1].append(x)\n",
    "        k[1].append(append_value)\n",
    "        data_1C[n]=k\n",
    "        return data_1C[n]\n"
   ]
  },
  {
   "cell_type": "code",
   "execution_count": 18,
   "metadata": {},
   "outputs": [
    {
     "name": "stdout",
     "output_type": "stream",
     "text": [
      "[2, [4, 4]]\n",
      "[2, [1, 11]]\n",
      "[4, [1, 1, 5, 11]]\n",
      "[3, [11, 11, 11]]\n",
      "[5, [4, 5, 11, 11, 11]]\n"
     ]
    }
   ],
   "source": [
    "## Test Code: Do not edit\n",
    "print(minCoursesForJane_Solution(9)) # should be 2, [4, 4]\n",
    "print(minCoursesForJane_Solution(13)) # should be 2, [1, 11]\n",
    "print(minCoursesForJane_Solution(19)) # should be 4, [1, 1, 5, 11]\n",
    "print(minCoursesForJane_Solution(34)) # should be 3, [11, 11, 11]\n",
    "print(minCoursesForJane_Solution(43)) # should be 5, [4, 5, 11, 11, 11]"
   ]
  },
  {
   "cell_type": "markdown",
   "metadata": {},
   "source": [
    "## 1(D) Greedy Solution\n",
    "\n",
    "Suppose Jane tried a greedy strategy that works as follows. \n",
    "Initialize number of courses $c = 0$.\n",
    "\n",
    "   1. While $n \\geq 11$,\n",
    "      1.1 jump $11$ steps forward, and set $n = n - 11$, $ c = c + 1$\n",
    "   2. While $n \\geq 5$, \n",
    "      2.1 jump $5$ steps forward and set $n = n - 5$, $ c = c + 1$\n",
    "   3. While $n \\geq 4$, \n",
    "      3.1 jump $4$ steps forward and set $n = n - 4$, $c = c + 1$\n",
    "   4. Finally, while $n > 1$, \n",
    "      4.1 jump $1$ step forward and set $n = n - 1$, $c = c + 1$\n",
    "     \n",
    "This way, she can reach level $n$ starting from level $1$ using $c$ courses.\n",
    "\n",
    "Show using an example for $n$ that this strategy may require her to take more courses than the optimal solution from dynamic programming."
   ]
  },
  {
   "cell_type": "markdown",
   "metadata": {},
   "source": [
    "__ Answer (Expected Length 3 lines) __ \n",
    "\n",
    "> let n = 20,  using dynamic programming, we get answer as $3,\\space [4, 4, 11]\\space i.e.\\space c = 3 $\n",
    "\n",
    "> If we solve fot n = 20 by greedy algorithm, we will get $5,\\space [1,1,1,5,11]\\space i.e.\\space c = 5 $\n",
    "\n",
    "> This example proves that if Jane uses greedy algorithm, she may require to take more courses than the optimal solution from dynamic programming."
   ]
  },
  {
   "cell_type": "markdown",
   "metadata": {},
   "source": [
    "## Question 2: The Defeat of Kilokahn\n",
    "\n",
    "Unfortunately, life was not as simple as it seemed in problem 1. Some of the levels have been hacked by an evil group of \n",
    "students who can subvert Jane and her great expertise to serve evil Kilokahn (Kilometric Knowledge-base Animate Human Nullity). \n",
    "\n",
    "Any level j that leaves a remainder of 2 when divided by 7 is to be avoided by Jane as she progresses towards level n (where she\n",
    "becomes a code ninja). However, Kilokahn will not be at level $n$ even if $n \\mod 7 = 2$.\n",
    "\n",
    "Jane_Programmer At Start of Game with Kilokahn lurking:\n",
    "\n",
    "<img src=\"http://www.cs.colorado.edu/~srirams/courses/csci5454-fall18/pictures/jane-picture-p2.png\">\n",
    "\n",
    "\n",
    "\n",
    "\n",
    "## 2(A) Write a recurrence.\n",
    "\n",
    "Write a recurrence `minCoursesForJaneAvoidKK(j, n)` that represents the minimum number of steps for Jane to reach from level j to level n while not reaching any level occupied by Kilokahn.\n"
   ]
  },
  {
   "cell_type": "code",
   "execution_count": 57,
   "metadata": {},
   "outputs": [],
   "source": [
    "from math import inf\n",
    "\n",
    "def minCoursesForJaneAvoidKK(j, n):\n",
    "    last_course=False\n",
    "    if (n % 7 == 2):\n",
    "        last_course=True\n",
    "    return minCoursesForJaneAvoidKK_rec(j, n,last_course)\n",
    "\n",
    "def minCoursesForJaneAvoidKK_rec(j, n,last_course):    \n",
    "    if (n % 7 == 2)&(not last_course):\n",
    "        return inf\n",
    "    last_course=False\n",
    "    if n == 1:\n",
    "        return 0\n",
    "    if n <= 1:\n",
    "        return inf\n",
    "    diff=n-j\n",
    "    if (diff == 1)|(diff == 4)|(diff == 5)|(diff == 11):\n",
    "        return 1\n",
    "    else:\n",
    "        courses=[minCoursesForJaneAvoidKK_rec(j,n-1,last_course),minCoursesForJaneAvoidKK_rec(j,n-4,last_course),minCoursesForJaneAvoidKK_rec(j,n-5,last_course),minCoursesForJaneAvoidKK_rec(j,n-11,last_course)]\n",
    "        least=1+min(courses)\n",
    "        data[n]=least\n",
    "    return least"
   ]
  },
  {
   "cell_type": "code",
   "execution_count": 58,
   "metadata": {},
   "outputs": [
    {
     "name": "stdout",
     "output_type": "stream",
     "text": [
      "2\n",
      "2\n",
      "4\n",
      "5\n",
      "5\n",
      "6\n"
     ]
    }
   ],
   "source": [
    "## Test Code: Do not edit\n",
    "print(minCoursesForJaneAvoidKK(1, 9)) # should be 2\n",
    "print(minCoursesForJaneAvoidKK(1, 13)) # should be 2\n",
    "print(minCoursesForJaneAvoidKK(1, 19)) # should be 4\n",
    "print(minCoursesForJaneAvoidKK(1, 34)) # should be 5\n",
    "print(minCoursesForJaneAvoidKK(1, 43)) # should be 5\n",
    "print(minCoursesForJaneAvoidKK(1, 55)) # should be 6 "
   ]
  },
  {
   "cell_type": "markdown",
   "metadata": {},
   "source": [
    "## 2(B) Memoize the recurrence in 2(A)"
   ]
  },
  {
   "cell_type": "code",
   "execution_count": 95,
   "metadata": {},
   "outputs": [],
   "source": [
    "from math import inf\n",
    "data_2B={}\n",
    "\n",
    "def minCoursesForJaneAvoidKK_Memoize(n): # j is assumed to be 1 \n",
    "    last_course=False\n",
    "    if (n % 7 == 2):\n",
    "        last_course=True\n",
    "    return minCoursesForJaneAvoidKK_Memoize_rec(n,last_course)\n",
    "\n",
    "from math import inf\n",
    "def minCoursesForJaneAvoidKK_Memoize_rec(n,last_course): # Assume that j = 1 is always the starting point.\n",
    "    if (n % 7 == 2)&(not last_course):\n",
    "        return inf\n",
    "    last_course=False\n",
    "    if n == 1:\n",
    "        return 0\n",
    "    if n <= 0:\n",
    "        return inf\n",
    "    if n in data_2B:\n",
    "        return data_2B[n]\n",
    "    else:\n",
    "        courses=[minCoursesForJaneAvoidKK_Memoize_rec(n-1,last_course),minCoursesForJaneAvoidKK_Memoize_rec(n-4,last_course),minCoursesForJaneAvoidKK_Memoize_rec(n-5,last_course),minCoursesForJaneAvoidKK_Memoize_rec(n-11,last_course)]\n",
    "        least=1+min(courses)\n",
    "        data_2B[n]=least\n",
    "    return least"
   ]
  },
  {
   "cell_type": "code",
   "execution_count": 96,
   "metadata": {},
   "outputs": [
    {
     "name": "stdout",
     "output_type": "stream",
     "text": [
      "2\n",
      "2\n",
      "4\n",
      "5\n",
      "5\n",
      "6\n",
      "8\n",
      "83\n"
     ]
    }
   ],
   "source": [
    "## Test Code: Do not edit\n",
    "print(minCoursesForJaneAvoidKK_Memoize(9)) # should be 2\n",
    "print(minCoursesForJaneAvoidKK_Memoize(13)) # should be 2\n",
    "print(minCoursesForJaneAvoidKK_Memoize(19)) # should be 4\n",
    "print(minCoursesForJaneAvoidKK_Memoize(34)) # should be 5\n",
    "print(minCoursesForJaneAvoidKK_Memoize(43)) # should be 5\n",
    "print(minCoursesForJaneAvoidKK_Memoize(55)) # should be 6\n",
    "print(minCoursesForJaneAvoidKK_Memoize(69)) # should be 8\n",
    "print(minCoursesForJaneAvoidKK_Memoize(812)) # should be 83"
   ]
  },
  {
   "cell_type": "markdown",
   "metadata": {},
   "source": [
    "## 2(C) Recover the solution in terms of number of jumps for each course."
   ]
  },
  {
   "cell_type": "code",
   "execution_count": 123,
   "metadata": {},
   "outputs": [],
   "source": [
    "from math import inf\n",
    "data_2C={}\n",
    "\n",
    "def minCoursesForJaneAvoidKK_Solution(n):\n",
    "    last_course=False\n",
    "    if (n % 7 == 2):\n",
    "        last_course=True\n",
    "    return minCoursesForJaneAvoidKK_Solution_rec(n,last_course)\n",
    "\n",
    "def minCoursesForJaneAvoidKK_Solution_rec(n,last_course): # Assume that j = 1 is always the starting point\n",
    "    if (n % 7 == 2)&(not last_course):\n",
    "        return inf\n",
    "    last_course=False\n",
    "    append_value=0\n",
    "    if n == 1:\n",
    "        return [0,[]]\n",
    "    elif n <= 0:\n",
    "        return [inf,[]]\n",
    "    else:\n",
    "        least=inf\n",
    "        try:\n",
    "            d=data_2C[n-1]\n",
    "        except KeyError:   \n",
    "            d=minCoursesForJaneAvoidKK_Solution_rec(n-1,last_course)\n",
    "        try:\n",
    "            c=data_2C[n-4]\n",
    "        except KeyError:   \n",
    "            c=minCoursesForJaneAvoidKK_Solution_rec(n-4,last_course)\n",
    "        try:\n",
    "            b=data_2C[n-5]\n",
    "        except KeyError:   \n",
    "            b=minCoursesForJaneAvoidKK_Solution_rec(n-5,last_course)\n",
    "        try:\n",
    "            a=data_2C[n-11]\n",
    "        except KeyError:   \n",
    "            a=minCoursesForJaneAvoidKK_Solution_rec(n-11,last_course)\n",
    "        try:\n",
    "            A=a[0]\n",
    "        except:\n",
    "            A=a\n",
    "        try:\n",
    "            B=b[0]\n",
    "        except:\n",
    "            B=b\n",
    "        try:\n",
    "            C=c[0]\n",
    "        except:\n",
    "            C=c\n",
    "        try:\n",
    "            D=d[0]\n",
    "        except:\n",
    "            D=d\n",
    "        compare=[A,B,C,D]\n",
    "        least=min(compare)\n",
    "        if A==least:\n",
    "            append_value=11\n",
    "            final=A\n",
    "            if (final != inf) & (final != 0):\n",
    "                final_list=a[1]\n",
    "        elif B==least:\n",
    "            append_value=5\n",
    "            final=B\n",
    "            if (final != inf) & (final != 0):\n",
    "                final_list=b[1]\n",
    "        elif C==least:\n",
    "            append_value=4\n",
    "            final=C\n",
    "            if (final != inf) & (final != 0):\n",
    "                try:\n",
    "                    final_list=c[1]\n",
    "                except:\n",
    "                    print(\"c=\",c)\n",
    "        elif D==least:\n",
    "            append_value=1\n",
    "            final=D\n",
    "            if (final != inf) & (final != 0):\n",
    "                final_list=d[1]\n",
    "        k=[0,[]]\n",
    "        k[0]=final+1\n",
    "        if (final != inf) & (final != 0):\n",
    "            for x in final_list:\n",
    "                k[1].append(x)\n",
    "        k[1].append(append_value)\n",
    "        data_2C[n]=k\n",
    "        return data_2C[n]\n"
   ]
  },
  {
   "cell_type": "code",
   "execution_count": 124,
   "metadata": {},
   "outputs": [
    {
     "name": "stdout",
     "output_type": "stream",
     "text": [
      "[2, [4, 4]]\n",
      "[2, [11, 1]]\n",
      "[4, [5, 1, 1, 11]]\n",
      "[5, [5, 1, 11, 11, 5]]\n",
      "[5, [4, 5, 11, 11, 11]]\n",
      "[6, [5, 11, 11, 11, 11, 5]]\n",
      "[8, [4, 4, 11, 11, 11, 11, 11, 5]]\n",
      "[83, [5, 11, 11, 11, 11, 5, 11, 11, 11, 11, 5, 11, 11, 11, 11, 5, 11, 11, 11, 11, 5, 11, 11, 11, 11, 5, 11, 11, 11, 11, 5, 11, 11, 11, 11, 5, 11, 11, 11, 11, 5, 11, 11, 11, 11, 5, 11, 11, 11, 11, 5, 11, 11, 11, 11, 5, 11, 11, 11, 11, 5, 11, 11, 11, 11, 5, 11, 11, 11, 11, 5, 11, 11, 11, 11, 5, 11, 11, 11, 11, 5, 11, 11]]\n"
     ]
    }
   ],
   "source": [
    "## Test Code: Do not edit\n",
    "print(minCoursesForJaneAvoidKK_Solution(9)) # should be 2, [4, 4]\n",
    "print(minCoursesForJaneAvoidKK_Solution(13)) # should be 2, [11, 1]\n",
    "print(minCoursesForJaneAvoidKK_Solution(19)) # should be 4, [4, 5, 4, 5]\n",
    "print(minCoursesForJaneAvoidKK_Solution(34)) # should be 5, [5, 1, 11, 11, 5]\n",
    "print(minCoursesForJaneAvoidKK_Solution(43)) # should be 5, [4, 5, 11, 11, 11]\n",
    "print(minCoursesForJaneAvoidKK_Solution(55)) # should be 6, [5, 11, 11, 11, 11, 5]\n",
    "print(minCoursesForJaneAvoidKK_Solution(69)) # should be 8, [11, 1, 11, 11, 11, 11, 11, 1]\n",
    "print(minCoursesForJaneAvoidKK_Solution(812)) # should be 83, [5, 11, 11, 11, 11, 5, 11, 11, 11, 11, 5, 11, 11, 11, 11, 5, 11, 11, 11, 11, 5, 11, 11, 11, 11, 5, 11, 11, 11, 11, 5, 11, 11, 11, 11, 5, 11, 11, 11, 11, 5, 11, 11, 11, 11, 5, 11, 11, 11, 11, 5, 11, 11, 11, 11, 5, 11, 11, 11, 11, 5, 11, 11, 11, 11, 5, 11, 11, 11, 11, 5, 11, 11, 11, 11, 5, 11, 11, 11, 11, 5, 11, 11]"
   ]
  },
  {
   "cell_type": "markdown",
   "metadata": {},
   "source": [
    "## Question 3: Energize Jane with a budget.\n",
    "\n",
    "Unfortunately, life was not as simple as it seemed in problem 2. Besides dealing with Kilokahn, taking a course with a level jump consumes\n",
    "a lot of Jane's energy, and she has an energy $E_0$ to begin with. Each time Jane jumps levels, she loses energy as follows:\n",
    "\n",
    "\n",
    "| Jump   | Energy Consumed |\n",
    "|--------|-----------------|\n",
    "|  1     |       1         |\n",
    "|  4     |       2         |\n",
    "|  5     |       3         |\n",
    "| 11     |       7         |\n",
    "\n",
    "\n",
    "If at any point her energy level is $ \\leq 0$ (even if she is at the destination), she will lose.\n",
    "\n",
    "Given $n$, and initial energy $E_0$, plan how Jane can reach level $n$ (ninja level, in case you forgot) while\n",
    "avoiding Kilokahn who  lurks when dividing the level by $7$ leaves a remainder of $2$ and keeping her energy levels\n",
    "always strictly positive.\n",
    "\n",
    "\n",
    "### 3(A): Write a Recurrence\n",
    "\n",
    "Write a recurrence `minCoursesWithEnergyBudget(j, E, n)` that given that Jane is currently on level `j` with energy `E` finds the minimal \n",
    "number of courses she needs to take to reach `n`. Do not forget the base cases."
   ]
  },
  {
   "cell_type": "code",
   "execution_count": 3,
   "metadata": {},
   "outputs": [],
   "source": [
    "from math import inf\n",
    "\n",
    "def minCoursesWithEnergyBudget(j, e, n):\n",
    "    last_course=False\n",
    "    if (n % 7 == 2):\n",
    "        last_course=True\n",
    "    return minCoursesWithEnergyBudget_rec(j, e, n, last_course)\n",
    "\n",
    "def minCoursesWithEnergyBudget_rec(j, e, n, last_course):\n",
    "    if (n % 7 == 2)&(not last_course):\n",
    "        return inf\n",
    "    last_course=False\n",
    "    if e<1:\n",
    "        return inf\n",
    "    if n == 1:\n",
    "        return 0\n",
    "    if n < 1:\n",
    "        return inf\n",
    "    if ((n == 2)&(e>1)|((n == 5)&(e>2))|((n == 6)&(e>3))|((n == 12)&(e>7))):\n",
    "        return 1\n",
    "    else:\n",
    "        courses=[minCoursesWithEnergyBudget_rec(j,e-1,n-1,last_course),minCoursesWithEnergyBudget_rec(j,e-2,n-4,last_course),minCoursesWithEnergyBudget_rec(j,e-3,n-5,last_course),minCoursesWithEnergyBudget_rec(j,e-7,n-11,last_course)]\n",
    "        least=1+min(courses)\n",
    "    return least"
   ]
  },
  {
   "cell_type": "code",
   "execution_count": 4,
   "metadata": {},
   "outputs": [
    {
     "name": "stdout",
     "output_type": "stream",
     "text": [
      "2\n",
      "1\n",
      "5\n",
      "7\n",
      "7\n",
      "7\n",
      "11\n",
      "12\n"
     ]
    }
   ],
   "source": [
    "# test code do not edit\n",
    "print(minCoursesWithEnergyBudget(1, 25, 10)) # must be 2\n",
    "print(minCoursesWithEnergyBudget(1, 25, 6)) # must be 1\n",
    "print(minCoursesWithEnergyBudget(1, 25, 30)) # must be 5\n",
    "print(minCoursesWithEnergyBudget(1, 16, 30)) # must be 7\n",
    "print(minCoursesWithEnergyBudget(1, 18, 31)) # must be 7\n",
    "print(minCoursesWithEnergyBudget(1, 22, 38)) # must be 7\n",
    "print(minCoursesWithEnergyBudget(1, 32, 55)) # must be 11\n",
    "print(minCoursesWithEnergyBudget(1, 35, 60)) # must be 12"
   ]
  },
  {
   "cell_type": "markdown",
   "metadata": {},
   "source": [
    "## 3(B): Memoize the Recurrence\n",
    "\n",
    "Write a memo table to memoize the recurrence. Your memo table must be  of the form $T[j][e]$ for $j$ ranging from $1$ to $n$\n",
    "and $e$ ranging from $0$ to $E$. You will have to handle the base cases carefully."
   ]
  },
  {
   "cell_type": "code",
   "execution_count": 77,
   "metadata": {},
   "outputs": [],
   "source": [
    "from math import inf\n",
    "data_3B=[]\n",
    "\n",
    "def minCoursesWithEnergyBudget_Memoize(E, n): # j is assumed to be 1 \n",
    "    prev_len_n=len(data_3B)\n",
    "    if prev_len_n<n+1:\n",
    "        for i in range(n-prev_len_n+1):\n",
    "            data_3B.append([])\n",
    "            for j in range(E+1):\n",
    "                data_3B[prev_len_n+i].append(inf)\n",
    "    for i in range(prev_len_n):\n",
    "        prev_len_e=len(data_3B[i])\n",
    "        if prev_len_e<E+1:\n",
    "            for j in range(E-prev_len_e+1):\n",
    "                data_3B[i].append(inf)\n",
    "    \n",
    "    last_course=False\n",
    "    if (n % 7 == 2):\n",
    "        last_course=True\n",
    "    return minCoursesWithEnergyBudget_Memoize_rec(E,n,last_course)\n",
    "\n",
    "def minCoursesWithEnergyBudget_Memoize_rec(E,n,last_course): # Assume that j = 1 is always the starting point.\n",
    "    if (n % 7 == 2)&(not last_course):\n",
    "        return inf\n",
    "    last_course=False\n",
    "    if n <= 1:\n",
    "        return inf\n",
    "    elif E<=0:\n",
    "        return inf  \n",
    "    try:\n",
    "        temp=data_3B[n][E]\n",
    "    except:\n",
    "        print(\"n=\",n,\"e=\",E)\n",
    "    if temp != inf:\n",
    "        return temp\n",
    "    elif (((n == 2)&(E>1))|((n == 5)&(E>2))|((n == 6)&(E>3))|((n == 12)&(E>7))):\n",
    "        return 1\n",
    "    else:\n",
    "        courses=[minCoursesWithEnergyBudget_Memoize_rec(E-1,n-1,last_course),minCoursesWithEnergyBudget_Memoize_rec(E-2,n-4,last_course),minCoursesWithEnergyBudget_Memoize_rec(E-3,n-5,last_course),minCoursesWithEnergyBudget_Memoize_rec(E-7,n-11,last_course)]\n",
    "        least=1+min(courses)\n",
    "        data_3B[n][E]=least\n",
    "    return least\n"
   ]
  },
  {
   "cell_type": "code",
   "execution_count": 78,
   "metadata": {},
   "outputs": [
    {
     "name": "stdout",
     "output_type": "stream",
     "text": [
      "2\n",
      "1\n",
      "5\n",
      "7\n",
      "7\n",
      "7\n",
      "11\n",
      "12\n"
     ]
    }
   ],
   "source": [
    "# test code do not edit\n",
    "print(minCoursesWithEnergyBudget_Memoize(25, 10)) # must be 2\n",
    "print(minCoursesWithEnergyBudget_Memoize(25, 6)) # must be 1\n",
    "print(minCoursesWithEnergyBudget_Memoize(25, 30)) # must be 5\n",
    "print(minCoursesWithEnergyBudget_Memoize(16, 30)) # must be 7\n",
    "print(minCoursesWithEnergyBudget_Memoize(18, 31)) # must be 7\n",
    "print(minCoursesWithEnergyBudget_Memoize(22, 38)) # must be 7\n",
    "print(minCoursesWithEnergyBudget_Memoize(32, 55)) # must be 11\n",
    "print(minCoursesWithEnergyBudget_Memoize(35, 60)) # must be 12"
   ]
  },
  {
   "cell_type": "markdown",
   "metadata": {},
   "source": [
    "## 3(C): Recover the Solution\n",
    "\n",
    "Now write code that will also return the minimum number of courses along with the list of jumps that will achieve this minimum number"
   ]
  },
  {
   "cell_type": "code",
   "execution_count": 11,
   "metadata": {},
   "outputs": [],
   "source": [
    "from math import inf\n",
    "data_3C=[]\n",
    "\n",
    "def minCoursesWithEnergyBudget_Solution(E, n): # j is assumed to be 1 \n",
    "    prev_len_n=len(data_3C)\n",
    "    if prev_len_n<n+1:\n",
    "        for i in range(n-prev_len_n+1):\n",
    "            data_3C.append([])\n",
    "            for j in range(E+1):\n",
    "                data_3C[prev_len_n+i].append(inf)\n",
    "    for i in range(prev_len_n):\n",
    "        prev_len_e=len(data_3C[i])\n",
    "        if prev_len_e<E+1:\n",
    "            for j in range(E-prev_len_e+1):\n",
    "                data_3C[i].append(inf)\n",
    "    \n",
    "    last_course=False\n",
    "    if (n % 7 == 2):\n",
    "        last_course=True\n",
    "    return minCoursesWithEnergyBudget_Solution_rec(E,n,last_course)\n",
    "\n",
    "def minCoursesWithEnergyBudget_Solution_rec(E,n,last_course): # Assume that j = 1 is always the starting point.\n",
    "    if (n % 7 == 2)&(not last_course):\n",
    "        return inf\n",
    "    last_course=False\n",
    "    if n <= 1:\n",
    "        return [inf,[]]\n",
    "    elif E<=0:\n",
    "        return [inf,[]]  \n",
    "    elif (n == 2)&(E>1):\n",
    "        return [1,[1]]\n",
    "    elif (n == 5)&(E>2):\n",
    "        return [1,[4]]\n",
    "    elif (n == 6)&(E>3):\n",
    "        return [1,[5]]\n",
    "    elif (n == 12)&(E>7):\n",
    "        return [1,[11]]\n",
    "    else:\n",
    "        append_value=0\n",
    "        least=inf\n",
    "        d=data_3C[n-1][E-1]\n",
    "        if d == inf:    \n",
    "            d=minCoursesWithEnergyBudget_Solution_rec(E-1,n-1,last_course)\n",
    "        c=data_3C[n-4][E-2]\n",
    "        if c == inf:  \n",
    "            c=minCoursesWithEnergyBudget_Solution_rec(E-2,n-4,last_course)\n",
    "        b=data_3C[n-5][E-3]\n",
    "        if b == inf:  \n",
    "            b=minCoursesWithEnergyBudget_Solution_rec(E-3,n-5,last_course)\n",
    "        a=data_3C[n-11][E-7]\n",
    "        if a == inf:  \n",
    "            a=minCoursesWithEnergyBudget_Solution_rec(E-7,n-11,last_course)\n",
    "        try:\n",
    "            A=a[0]\n",
    "        except:\n",
    "            A=a\n",
    "        try:\n",
    "            B=b[0]\n",
    "        except:\n",
    "            B=b\n",
    "        try:\n",
    "            C=c[0]\n",
    "        except:\n",
    "            C=c\n",
    "        try:\n",
    "            D=d[0]\n",
    "        except:\n",
    "            D=d\n",
    "        compare=[A,B,C,D]\n",
    "        least=min(compare)\n",
    "        if A==least:\n",
    "            append_value=11\n",
    "            final=A\n",
    "            if (final != inf) & (final != 0):\n",
    "                final_list=a[1]\n",
    "        elif B==least:\n",
    "            append_value=5\n",
    "            final=B\n",
    "            if (final != inf) & (final != 0):\n",
    "                final_list=b[1]\n",
    "        elif C==least:\n",
    "            append_value=4\n",
    "            final=C\n",
    "            if (final != inf) & (final != 0):\n",
    "                final_list=c[1]\n",
    "        elif D==least:\n",
    "            append_value=1\n",
    "            final=D\n",
    "            if (final != inf) & (final != 0):\n",
    "                final_list=d[1]\n",
    "        k=[0,[]]\n",
    "        k[0]=final+1\n",
    "        if (final != inf) & (final != 0):\n",
    "            for x in final_list:\n",
    "                k[1].append(x)\n",
    "        k[1].append(append_value)\n",
    "        data_3C[n][E]=k\n",
    "        return data_3C[n][E]"
   ]
  },
  {
   "cell_type": "code",
   "execution_count": 12,
   "metadata": {},
   "outputs": [
    {
     "name": "stdout",
     "output_type": "stream",
     "text": [
      "[2, [4, 5]]\n",
      "[1, [5]]\n",
      "[5, [5, 1, 1, 11, 11]]\n",
      "[7, [4, 5, 4, 4, 4, 4, 4]]\n",
      "[7, [4, 5, 4, 4, 4, 4, 5]]\n",
      "[7, [4, 5, 4, 4, 4, 5, 11]]\n",
      "[11, [4, 5, 4, 4, 4, 4, 5, 4, 4, 11, 5]]\n",
      "[12, [4, 5, 4, 4, 4, 4, 5, 4, 5, 5, 4, 11]]\n"
     ]
    }
   ],
   "source": [
    "# test code do not edit\n",
    "print(minCoursesWithEnergyBudget_Solution(25, 10)) # must be 2, [4,5]\n",
    "print(minCoursesWithEnergyBudget_Solution(25, 6)) # must be 1, [5]\n",
    "print(minCoursesWithEnergyBudget_Solution(25, 30)) # must be 5, [4, 5, 4, 5, 11]\n",
    "print(minCoursesWithEnergyBudget_Solution(16, 30)) # must be 7, [4, 5, 4, 4, 4, 4, 4]\n",
    "print(minCoursesWithEnergyBudget_Solution(18, 31)) # must be 7, [4, 5, 4, 4, 4, 4, 5]\n",
    "print(minCoursesWithEnergyBudget_Solution(22, 38)) # must be 7,  [4, 5, 4, 4, 4, 5, 11]\n",
    "print(minCoursesWithEnergyBudget_Solution(32, 55)) # must be 11, [4, 5, 4, 4, 4, 4, 5, 4, 4, 11, 5]\n",
    "print(minCoursesWithEnergyBudget_Solution(35, 60)) # must be 12, [4, 5, 4, 4, 4, 4, 5, 4, 4, 11, 5, 5]"
   ]
  },
  {
   "cell_type": "markdown",
   "metadata": {},
   "source": [
    "## Question 4: Subset Sum Problem\n",
    "\n",
    "> We are given a set of whole numbers $S:\\ \\{ n_1, \\ldots, n_k \\}$ and a number $N$.\n",
    "> Our goal is to choose a subset of numbers $T:\\ \\{ n_{i_1}, \\ldots, n_{i_j} \\} \\subseteq S$ such that\n",
    "\n",
    ">   (a) $\\sum_{l=1}^j n_{i_l}  \\leq N$, the sum of chosen numbers is less than or equal to $N$, \n",
    "\n",
    ">   (b) The difference $N - \\sum_{l=1}^j n_{i_l} $ is made as small as possible.\n",
    "\n",
    "> For example, $S = \\{ 1, 2, 3, 4, 5, 10 \\}$ and $N = 20$ then by choosing $T = \\{1, 2, 3, 4, 5\\}$, we have  \n",
    "$1 + 2 + 3 + 4 + 5 = 15 \\leq 20$, achieving a difference of $5$. However, if we chose $T = \\{ 2,3,5,10\\}$ \n",
    "we obtain a sum of $2 + 3 + 5 + 10 = 20$ achieving the smallest possible difference of $0$.\n",
    "\n",
    "\n",
    "Therefore the problem is as follows:\n",
    "\n",
    "  * Inputs: list  $S: [n_1, \\ldots, n_k]$ and number $N$.\n",
    "  * Output: a list $T$ of elements from $S$ such that sum of elements of $T$ is  $\\leq N$ and $N - \\sum_{e \\in T} e$ is the smallest possible.\n",
    "\n",
    "The subsequent parts to this problem ask you to derive a dynamic programming solution to this problem.\n",
    "\n",
    "__Note:__ Because $S$ and $T$ are viewed as sets, each element in the set may occur exactly once."
   ]
  },
  {
   "cell_type": "markdown",
   "metadata": {},
   "source": [
    " ## 4(A) Show how the decisions can be staged to obtain optimal substructure (expected size: 5 lines)"
   ]
  },
  {
   "cell_type": "markdown",
   "metadata": {},
   "source": [
    "..\n",
    "\n",
    "..\n",
    "\n",
    "\n",
    "..\n",
    "\n",
    "\n",
    "..\n"
   ]
  },
  {
   "cell_type": "markdown",
   "metadata": {},
   "source": [
    "## 4(B): Write a recursive function for calculating the minimum value of the difference possible. "
   ]
  },
  {
   "cell_type": "code",
   "execution_count": 44,
   "metadata": {},
   "outputs": [],
   "source": [
    "from math import inf\n",
    "def minSubsetDifference_recursive(N, s_list): \n",
    "    difference=0\n",
    "    sum=0\n",
    "    compare=[]\n",
    "    for i in range(len(s_list)):\n",
    "        sum+=s_list[i]\n",
    "        if sum == N:\n",
    "            return difference\n",
    "        if sum > N:\n",
    "            for j in range(i+1):\n",
    "                compare.append(minSubsetDifference_recursive(sum-N,s_list[:j]))\n",
    "                difference=min(compare)\n",
    "    if sum < N:\n",
    "        return 1+minSubsetDifference_recursive(N-1,s_list)\n",
    "    return difference"
   ]
  },
  {
   "cell_type": "code",
   "execution_count": 45,
   "metadata": {},
   "outputs": [
    {
     "name": "stdout",
     "output_type": "stream",
     "text": [
      "0\n",
      "1\n",
      "0\n",
      "0\n",
      "0\n",
      "1\n",
      "0\n",
      "1\n"
     ]
    }
   ],
   "source": [
    "# Code for testing your solution\n",
    "# DO NOT EDIT\n",
    "print(minSubsetDifference_recursive(15, [1, 2, 3, 4, 5, 10])) # Should be zero\n",
    "print(minSubsetDifference_recursive(26, [1, 2, 3, 4, 5, 10])) # should be 1\n",
    "print(minSubsetDifference_recursive(23, [1, 2, 3, 4, 5, 10])) # should be 0\n",
    "print(minSubsetDifference_recursive(18, [1, 2, 3, 4, 5, 10])) # should be 0\n",
    "print(minSubsetDifference_recursive(9, [1, 2, 3, 4, 5, 10])) # should be 0\n",
    "print(minSubsetDifference_recursive(457, [11, 23, 37, 48, 94, 152, 230, 312, 339, 413])) # should be 1\n",
    "print(minSubsetDifference_recursive(512, [11, 23, 37, 48, 94, 152, 230, 312, 339, 413])) # should be 0\n",
    "print(minSubsetDifference_recursive(616, [11, 23, 37, 48, 94, 152, 230, 312, 339, 413])) # should be 1"
   ]
  },
  {
   "cell_type": "markdown",
   "metadata": {},
   "source": [
    "## 4(C): Memoize the recurrence above. \n",
    "\n",
    "To help with your memoization, use a 2D memo table  $T[n][j]$ that represents the value for `minSubsetDifference(n, s_list[0:j])`. "
   ]
  },
  {
   "cell_type": "code",
   "execution_count": 116,
   "metadata": {},
   "outputs": [],
   "source": [
    "from math import inf\n",
    "data_4C=[]\n",
    "s_list_prev=[]\n",
    "def minSubsetDifference_Memoize(N, s_list):\n",
    "    global s_list_prev\n",
    "    global data_4C\n",
    "    if s_list != s_list_prev:\n",
    "        data_4C=[]\n",
    "        s_list_prev = s_list\n",
    "    E=len(s_list)+1\n",
    "    prev_len_n=len(data_4C)\n",
    "    if prev_len_n<N+2:\n",
    "        for i in range(N-prev_len_n+2):\n",
    "            data_4C.append([])\n",
    "            for j in range(E+1):\n",
    "                data_4C[prev_len_n+i].append(inf)\n",
    "    for i in range(prev_len_n):\n",
    "        prev_len_e=len(data_4C[i])\n",
    "        if prev_len_e<E+1:\n",
    "            for j in range(E-prev_len_e+1):\n",
    "                data_4C[i].append(inf)\n",
    "    return minSubsetDifference_Memoize_rec(N, s_list)\n",
    "    \n",
    "def minSubsetDifference_Memoize_rec(N, s_list): \n",
    "    try:\n",
    "        temp=data_4C[N][len(s_list)]\n",
    "        if temp != inf:\n",
    "            return temp\n",
    "    except:\n",
    "        None\n",
    "        #print(\"N=\",N,\"j=\",len(s_list))\n",
    "        #print(\"prev_len_n=\",len(data_4C),\"prev_len_e=\",len(data_4C[len(s_list)]))\n",
    "    difference=0\n",
    "    sum=0\n",
    "    compare=[]\n",
    "    for i in range(len(s_list)):\n",
    "        sum+=s_list[i]\n",
    "        if sum == N:\n",
    "            difference = 0\n",
    "            break\n",
    "        if sum > N:\n",
    "            for j in range(i):\n",
    "                compare.append(minSubsetDifference_Memoize_rec(sum-N,s_list[:j]))\n",
    "                difference=min(compare)\n",
    "    if sum < N:\n",
    "        difference=1+minSubsetDifference_Memoize_rec(N-1,s_list)\n",
    "    try:\n",
    "        data_4C[N][len(s_list)]=difference\n",
    "    except:  \n",
    "        None\n",
    "        #print(\"N=\",N,\"j=\",len(s_list))\n",
    "        #print(\"prev_len_n=\",len(data_4C),\"prev_len_e=\",len(data_4C[len(s_list)]))\n",
    "    return difference"
   ]
  },
  {
   "cell_type": "code",
   "execution_count": 117,
   "metadata": {},
   "outputs": [
    {
     "name": "stdout",
     "output_type": "stream",
     "text": [
      "0\n",
      "1\n",
      "1\n",
      "0\n",
      "0\n",
      "4\n",
      "2\n",
      "3\n"
     ]
    }
   ],
   "source": [
    "# Code for testing your solution\n",
    "# DO NOT EDIT\n",
    "print(minSubsetDifference_Memoize(15, [1, 2, 3, 4, 5, 10])) # Should be 0\n",
    "print(minSubsetDifference_Memoize(26, [1, 2, 3, 4, 5, 10])) # should be 1\n",
    "print(minSubsetDifference_Memoize(23, [1, 2, 3, 4, 5, 10])) # should be 0\n",
    "print(minSubsetDifference_Memoize(18, [1, 2, 3, 4, 5, 10])) # should be 0\n",
    "print(minSubsetDifference_Memoize(9, [1, 2, 3, 4, 5, 10])) # should be 0\n",
    "print(minSubsetDifference_Memoize(457, [11, 23, 37, 48, 94, 152, 230, 312, 339, 413])) # should be 1\n",
    "print(minSubsetDifference_Memoize(512, [11, 23, 37, 48, 94, 152, 230, 312, 339, 413])) # should be 0\n",
    "print(minSubsetDifference_Memoize(616, [11, 23, 37, 48, 94, 152, 230, 312, 339, 413])) # should be 1"
   ]
  },
  {
   "cell_type": "markdown",
   "metadata": {},
   "source": [
    "## 4(D): Write code to recover the solution"
   ]
  },
  {
   "cell_type": "code",
   "execution_count": 127,
   "metadata": {},
   "outputs": [],
   "source": [
    "def minSubsetDifference(N, s_list):\n",
    "   # Your code here\n",
    "    return 121, [1, 4, 6, 2, 1]"
   ]
  },
  {
   "cell_type": "code",
   "execution_count": 128,
   "metadata": {},
   "outputs": [
    {
     "name": "stdout",
     "output_type": "stream",
     "text": [
      "(0, [5, 4, 3, 2, 1])\n",
      "(1, [10, 5, 4, 3, 2, 1])\n",
      "(0, [10, 5, 4, 3, 1])\n",
      "(0, [10, 4, 3, 1])\n",
      "(0, [4, 3, 2])\n",
      "(1, [339, 94, 23])\n",
      "(0, [312, 152, 37, 11])\n",
      "(1, [413, 94, 48, 37, 23])\n"
     ]
    }
   ],
   "source": [
    "# Code for testing your solution\n",
    "# DO NOT EDIT\n",
    "print(minSubsetDifference(15, [1, 2, 3, 4, 5, 10])) # Should be 0, [5, 4, 3, 2, 1]\n",
    "print(minSubsetDifference(26, [1, 2, 3, 4, 5, 10])) # should be 1, [10, 5, 4, 3, 2, 1]\n",
    "print(minSubsetDifference(23, [1, 2, 3, 4, 5, 10])) # should be 0, [10, 5, 4, 3, 1]\n",
    "print(minSubsetDifference(18, [1, 2, 3, 4, 5, 10])) # should be 0, [10, 4, 3, 1]\n",
    "print(minSubsetDifference(9, [1, 2, 3, 4, 5, 10])) # should be 0, [4, 3, 2]\n",
    "print(minSubsetDifference(457, [11, 23, 37, 48, 94, 152, 230, 312, 339, 413])) # should be 1, [339, 94, 23]\n",
    "print(minSubsetDifference(512, [11, 23, 37, 48, 94, 152, 230, 312, 339, 413])) # should be 0, [312, 152, 37, 11]\n",
    "print(minSubsetDifference(616, [11, 23, 37, 48, 94, 152, 230, 312, 339, 413])) # should be 1, [413, 94, 48, 37]"
   ]
  },
  {
   "cell_type": "markdown",
   "metadata": {},
   "source": [
    "## 4 (E): Greedy Solution\n",
    "\n",
    "Suppose we use the following greedy solution to solve the problem.\n",
    "  * $T = \\emptyset$\n",
    "  * While ( $ N \\geq 0 $) \n",
    "    * Select the largest element $e$ for $S$ that is smaller than $N$\n",
    "    * Remove $e$ from $S$\n",
    "    * Add $e$ to $T$\n",
    "    * N = N - e\n",
    "  * return (N, T)\n",
    "  \n",
    "Using an example, show that the greedy algorithm does not necessarily produce the optimal solution."
   ]
  },
  {
   "cell_type": "markdown",
   "metadata": {},
   "source": [
    "__Your Answer Here__ (Expected Size: 5 lines)"
   ]
  },
  {
   "cell_type": "markdown",
   "metadata": {},
   "source": [
    "## Testing your solutions -- Do not edit code beyond this point"
   ]
  },
  {
   "cell_type": "code",
   "execution_count": null,
   "metadata": {},
   "outputs": [],
   "source": []
  }
 ],
 "metadata": {
  "kernelspec": {
   "display_name": "Python 3",
   "language": "python",
   "name": "python3"
  },
  "language_info": {
   "codemirror_mode": {
    "name": "ipython",
    "version": 3
   },
   "file_extension": ".py",
   "mimetype": "text/x-python",
   "name": "python",
   "nbconvert_exporter": "python",
   "pygments_lexer": "ipython3",
   "version": "3.6.5"
  }
 },
 "nbformat": 4,
 "nbformat_minor": 2
}
