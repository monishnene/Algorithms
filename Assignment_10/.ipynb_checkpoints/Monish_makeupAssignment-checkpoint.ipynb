{
 "cells": [
  {
   "cell_type": "markdown",
   "metadata": {},
   "source": [
    "# Problem 1\n",
    "\n",
    "Prove the following statement:\n",
    "$$ \\log_2(1) + \\log_2(2) + \\cdots + \\log_2(n) = \\Theta(n \\log(n)) \\,.$$"
   ]
  },
  {
   "cell_type": "markdown",
   "metadata": {},
   "source": [
    "## Expected Answer (10 lines)\n",
    "\n",
    "\n",
    "\n",
    "\n",
    "\n",
    "\n",
    "..\n",
    "\n",
    "..\n",
    "\n",
    "\n",
    "..\n",
    "\n",
    "..\n",
    "\n",
    "..\n",
    "\n",
    "..\n",
    "\n",
    ".."
   ]
  },
  {
   "cell_type": "markdown",
   "metadata": {},
   "source": [
    "## Problem 2\n",
    "\n",
    "You are given a circuit with $m$ bits of input\n",
    "where each can be set to $0$ or $1$ and a single bit of output. A user\n",
    "randomly generates inputs to test the circuit. What is the average number of\n",
    "inputs they provide to the circuit before all possible inputs will\n",
    "have been tested? Provide no more than one-two sentences justification. Answer\n",
    "can be in $\\Theta()$ notation."
   ]
  },
  {
   "cell_type": "markdown",
   "metadata": {},
   "source": [
    "## Expected Answer (5 lines)\n",
    "\n",
    "..\n",
    "\n",
    "..\n",
    "\n",
    "..\n",
    "\n",
    "..\n",
    "\n",
    "..\n"
   ]
  },
  {
   "cell_type": "markdown",
   "metadata": {},
   "source": [
    "## Problem 3\n",
    "\n",
    "Consider a sorted array of $n$ elements: $1, \\ldots, n$. We randomly choose three elements  from\n",
    "this array (<font color=\"red\"> without repetition </font> )\n",
    "from the array. What is the probability that element number $i$ is the\n",
    "median of the three chosen elements? Write a formula in terms of\n",
    "$n, i$."
   ]
  },
  {
   "cell_type": "markdown",
   "metadata": {},
   "source": [
    "## Expected Answer (5 lines)\n",
    "\n",
    "..\n",
    "\n",
    "\n",
    "..\n",
    "\n",
    "\n",
    "..\n",
    "\n",
    ".."
   ]
  },
  {
   "cell_type": "markdown",
   "metadata": {},
   "source": [
    "## Problem 4 \n",
    "\n",
    "Describe an algorithm that will find out if __all cycles__ in a weighted directed graph with\n",
    "$n$ nodes and $m$ edges have _zero_ weight. What is the time complexity? You can use algorithms covered in class as subroutines. "
   ]
  },
  {
   "cell_type": "markdown",
   "metadata": {},
   "source": [
    "## Expected Answer (10 lines)\n",
    "\n",
    "..\n",
    "\n",
    "..\n",
    "\n",
    "..\n",
    "\n",
    "..\n",
    "\n",
    "..\n",
    "\n",
    "..\n",
    "\n",
    "..\n",
    "\n",
    "..\n",
    "\n",
    "..\n",
    "\n",
    ".."
   ]
  },
  {
   "cell_type": "markdown",
   "metadata": {},
   "source": [
    "## Problem 5\n",
    "\n",
    "We are given a system of equations with unknowns $x_1, \\ldots, x_n$ and $m$ equations, wherein each\n",
    "equation is of the form\n",
    "$$ x_i - x_j = w_{ij},\\ \\text{where}\\ w_{ij} \\in \\mathbb{Z} $$\n",
    "Write an algorithm to check if the system of equation has a solution\n",
    "that assigns integers to each $x_i$. What is the running time of your\n",
    "algorithm? "
   ]
  },
  {
   "cell_type": "markdown",
   "metadata": {},
   "source": [
    "## Expected Answer (10 lines)\n",
    "\n",
    "..\n",
    "\n",
    "\n",
    "..\n",
    "\n",
    "\n",
    "..\n",
    "\n",
    "..\n",
    "\n",
    "..\n",
    "\n",
    "..\n",
    "\n",
    "..\n",
    "\n",
    "..\n",
    "\n",
    ".."
   ]
  },
  {
   "cell_type": "markdown",
   "metadata": {},
   "source": [
    "## Problem 6\n",
    "\n",
    "Describe an algorithm that will find out if\n",
    "given a weighted, directed graph with $n$ nodes and\n",
    "$m$ edges, there is a vertex $v$ such that (a)\n",
    "there is a cycle from $v$ back to itself, and (b) the weight of that\n",
    "cycle is positive. What is the time complexity of your algorithm? You can use algorithms\n",
    "covered in class as subroutines."
   ]
  },
  {
   "cell_type": "markdown",
   "metadata": {},
   "source": [
    "## Expected Answer (5 lines)\n",
    "\n",
    "..\n",
    "\n",
    "..\n",
    "\n",
    "..\n",
    "\n",
    "..\n",
    "\n",
    ".."
   ]
  },
  {
   "cell_type": "markdown",
   "metadata": {},
   "source": [
    "## Problem 7\n",
    "\n",
    " Let $x_1, \\ldots, x_n$ be Boolean variables. We have $m$ constraints\n",
    "each of the form\n",
    "$$ \\ell_i\\ \\equiv\\ \\ell_j \\, $$\n",
    "for literals $\\ell_i$ (which can either be $x_i$ or $\\neg x_i$) and $\\ell_j$ ($x_j$ or $\\neg x_j$)\n",
    "and $\\equiv$ is the logical equivalence operator (i.e, the two literals have the same\n",
    "truth value). \n",
    "Write an efficient algorithm to check if there is an assignment of true/false to the\n",
    "variables $x_1, \\ldots, x_n$ such that all the constraints are satisfied. "
   ]
  },
  {
   "cell_type": "markdown",
   "metadata": {},
   "source": [
    "## Expected Answer (5 lines)\n",
    "\n",
    "..\n",
    "\n",
    "..\n",
    "\n",
    "..\n",
    "\n",
    "..\n",
    "\n",
    ".."
   ]
  }
 ],
 "metadata": {
  "kernelspec": {
   "display_name": "Python 3",
   "language": "python",
   "name": "python3"
  },
  "language_info": {
   "codemirror_mode": {
    "name": "ipython",
    "version": 3
   },
   "file_extension": ".py",
   "mimetype": "text/x-python",
   "name": "python",
   "nbconvert_exporter": "python",
   "pygments_lexer": "ipython3",
   "version": "3.7.1"
  }
 },
 "nbformat": 4,
 "nbformat_minor": 2
}
