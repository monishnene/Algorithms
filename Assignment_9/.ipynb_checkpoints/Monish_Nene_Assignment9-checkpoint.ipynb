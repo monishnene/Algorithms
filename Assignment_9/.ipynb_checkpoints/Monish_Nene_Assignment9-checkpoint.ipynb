{
 "cells": [
  {
   "cell_type": "markdown",
   "metadata": {},
   "source": [
    "# CSCI 5454: Assignment 9\n",
    "\n",
    "The assignment may require you to add images to describe solutions. Please include those images with your submission and upload a ZIP file. How to embed an image inside a Jupyter notebook?\n",
    "\n",
    "Name: Monish Nene\n",
    "\n",
    "- Place image in same directory as notebook.\n",
    "- Use HTML tags\n",
    "\n",
    "~~~\n",
    "<img src = \"filename.JPG\" width=\"XX%\">\n",
    "~~~\n",
    "\n",
    "__Example:__\n",
    "\n",
    "<img src=\"https://upload.wikimedia.org/wikipedia/commons/thumb/1/11/GLPK_solution_of_a_travelling_salesman_problem.svg/512px-GLPK_solution_of_a_travelling_salesman_problem.svg.png\" width=\"30%\" >\n"
   ]
  },
  {
   "cell_type": "markdown",
   "metadata": {},
   "source": [
    "## Problem 1: Approximation Ratio For Minimum Makespan Job Scheduling (15 points)\n",
    "\n",
    "In class we studied a greedy approach for distributing $n$ jobs among $m$ processors to achieve\n",
    "a factor $2$ approximation to the optimal solution. In fact, a slightly more careful analysis will\n",
    "show that this factor is actually $2 - \\frac{1}{m}$.\n",
    "\n",
    "For each value of $m$ design $n = m(m-1) + 1$ jobs such that the greedy algorithm's solution\n",
    "is $\\alpha = 2-\\frac{1}{m}$ times the actual optimum.\n",
    "\n",
    "** Hint : ** Create a bunch of \"tiny\" jobs and one big job. How do you make sure that the performance of\n",
    "greedy will be $\\alpha$ times worse than the optimum?"
   ]
  },
  {
   "cell_type": "markdown",
   "metadata": {},
   "source": [
    "## Answer 1 (Expected Size: 6 lines).\n",
    ">The n jobs are picked from the array and given to m processors.\n",
    "\n",
    ">Let m = 3, then $n =3*2+1 = 7$ so, $\\alpha = 2-\\frac{1}{3} = 1.6667$.\n",
    "\n",
    ">Let the seven jobs be with workload as follows. jobs=[1,2,2,3,3,3,7]\n",
    "\n",
    ">The optimum solution will be $p1=(2+2+3)=7,\\space p2=(1+3+3)=7, and\\space p3=7$.\n",
    "\n",
    ">If the Minimum Makespan Job Scheduling, the processors with minimum workload is given the next job.\n",
    "\n",
    ">The job distribution would have been $p1=(1+3+7)=11 ,\\space p2=(2+3)=5 ,\\space p3=(2+3)=5$\n",
    "\n",
    ">The Resulting Minimum Makespan would have been $p1=11$ and $\\alpha=\\frac {11}{7} = 1.571428$ "
   ]
  },
  {
   "cell_type": "markdown",
   "metadata": {},
   "source": [
    "## Problem 2: Worst Case for Greedy Vertex Cover (10 Points)\n",
    "\n",
    "We examined a factor 2 approximation for vertex cover in class (see Jeff Erikson's notes).\n",
    "Describe a family of examples consisting of a graph $G_n$ for any $n$ with\n",
    "$n$ vertices wherein the greedy algorithm's vertex cover on $G_n$ is precisely twice as large as\n",
    "the optimal vertex cover."
   ]
  },
  {
   "cell_type": "markdown",
   "metadata": {},
   "source": [
    "## Answer 2 (Expected Size: 5 lines)\n",
    "><img src = \"q2.jpeg\" width=\"50%\">\n",
    "\n",
    "> This family of graphs will have a greedy algorithm vertex cover precisely twice as large as the optimal vertex cover.\n",
    "\n",
    "> if n is even, the selection will be as shown above.\n",
    "\n",
    "> if n is odd, the selection will be as shown below.\n",
    "\n",
    "><img src = \"q2odd.jpeg\" width=\"50%\">\n",
    "\n",
    "> For odd, in some cases the greedy vertex cover will be twice the optimum cover + or - 1 depending on the selection of edges."
   ]
  },
  {
   "cell_type": "markdown",
   "metadata": {},
   "source": [
    "## Problem 3: TSP Approximation (10 points)\n",
    "\n",
    "Describe a weighted graph with $n$ nodes for any $n$ such that the  weights have the metric property such that the size of the optimum TSP tour is  twice the size of the minimum spanning tree. **Hint** Think straight lines!"
   ]
  },
  {
   "cell_type": "markdown",
   "metadata": {},
   "source": [
    "## Answer 3 (Expected Size: 3 Lines)"
   ]
  },
  {
   "cell_type": "markdown",
   "metadata": {},
   "source": [
    "\n",
    "<img src = \"q3.jpeg\" width=\"150%\">\n",
    "\n",
    "> If we start our tour at $H$ and go in the direction of $A$, we will reach an end point.\n",
    "\n",
    "> From $A$ we will back track and go to $I$\n",
    "\n",
    "> From $I$ we will go to $P$\n",
    "\n",
    "> From $P$ we will go back to our starting point $H$\n",
    "\n",
    "> While doing this optimum TSP tour (represented by the blue color) we are covering the distance of the minimum spanning tree (represented by black color) from $A$ to $P$ twice.\n",
    "\n",
    "> Even if our starting point was different our distance covered in the TSP tour will remain the same."
   ]
  },
  {
   "cell_type": "code",
   "execution_count": null,
   "metadata": {},
   "outputs": [],
   "source": []
  }
 ],
 "metadata": {
  "kernelspec": {
   "display_name": "Python 3",
   "language": "python",
   "name": "python3"
  },
  "language_info": {
   "codemirror_mode": {
    "name": "ipython",
    "version": 3
   },
   "file_extension": ".py",
   "mimetype": "text/x-python",
   "name": "python",
   "nbconvert_exporter": "python",
   "pygments_lexer": "ipython3",
   "version": "3.6.5"
  }
 },
 "nbformat": 4,
 "nbformat_minor": 2
}
